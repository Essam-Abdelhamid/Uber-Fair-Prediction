{
 "cells": [
  {
   "cell_type": "markdown",
   "id": "5ad0389c",
   "metadata": {},
   "source": [
    "#                                           Importing libraries\n"
   ]
  },
  {
   "cell_type": "code",
   "execution_count": 4,
   "id": "f8a6c933",
   "metadata": {},
   "outputs": [],
   "source": [
    "# Data analysis and wrangling \n",
    "import pandas as pd\n",
    "from geopy import Point, distance\n",
    "from math import *\n",
    "import numpy as np\n",
    "# Data Visualization \n",
    "import matplotlib.pyplot as plt\n",
    "import seaborn as sns\n",
    "# Machine learning \n",
    "from sklearn.preprocessing import StandardScaler\n",
    "from sklearn.model_selection import train_test_split\n",
    "from sklearn.linear_model import LinearRegression\n",
    "from sklearn import metrics"
   ]
  },
  {
   "cell_type": "markdown",
   "id": "1cec1e7f",
   "metadata": {},
   "source": [
    "# EDA 'Data Understanding'"
   ]
  },
  {
   "cell_type": "code",
   "execution_count": 5,
   "id": "ce8401d4",
   "metadata": {},
   "outputs": [],
   "source": [
    "DF = pd.read_csv(r'E:\\Work\\Fixed Solutions\\#2 Project\\uber.csv')"
   ]
  },
  {
   "cell_type": "code",
   "execution_count": 6,
   "id": "982d3f1b",
   "metadata": {},
   "outputs": [
    {
     "data": {
      "text/plain": [
       "Index(['Unnamed: 0', 'key', 'fare_amount', 'pickup_datetime',\n",
       "       'pickup_longitude', 'pickup_latitude', 'dropoff_longitude',\n",
       "       'dropoff_latitude', 'passenger_count'],\n",
       "      dtype='object')"
      ]
     },
     "execution_count": 6,
     "metadata": {},
     "output_type": "execute_result"
    }
   ],
   "source": [
    "DF.columns"
   ]
  },
  {
   "cell_type": "code",
   "execution_count": 7,
   "id": "6b391876",
   "metadata": {},
   "outputs": [
    {
     "data": {
      "text/html": [
       "<div>\n",
       "<style scoped>\n",
       "    .dataframe tbody tr th:only-of-type {\n",
       "        vertical-align: middle;\n",
       "    }\n",
       "\n",
       "    .dataframe tbody tr th {\n",
       "        vertical-align: top;\n",
       "    }\n",
       "\n",
       "    .dataframe thead th {\n",
       "        text-align: right;\n",
       "    }\n",
       "</style>\n",
       "<table border=\"1\" class=\"dataframe\">\n",
       "  <thead>\n",
       "    <tr style=\"text-align: right;\">\n",
       "      <th></th>\n",
       "      <th>Unnamed: 0</th>\n",
       "      <th>key</th>\n",
       "      <th>fare_amount</th>\n",
       "      <th>pickup_datetime</th>\n",
       "      <th>pickup_longitude</th>\n",
       "      <th>pickup_latitude</th>\n",
       "      <th>dropoff_longitude</th>\n",
       "      <th>dropoff_latitude</th>\n",
       "      <th>passenger_count</th>\n",
       "    </tr>\n",
       "  </thead>\n",
       "  <tbody>\n",
       "    <tr>\n",
       "      <th>0</th>\n",
       "      <td>24238194</td>\n",
       "      <td>2015-05-07 19:52:06.0000003</td>\n",
       "      <td>7.5</td>\n",
       "      <td>2015-05-07 19:52:06 UTC</td>\n",
       "      <td>-73.999817</td>\n",
       "      <td>40.738354</td>\n",
       "      <td>-73.999512</td>\n",
       "      <td>40.723217</td>\n",
       "      <td>1</td>\n",
       "    </tr>\n",
       "    <tr>\n",
       "      <th>1</th>\n",
       "      <td>27835199</td>\n",
       "      <td>2009-07-17 20:04:56.0000002</td>\n",
       "      <td>7.7</td>\n",
       "      <td>2009-07-17 20:04:56 UTC</td>\n",
       "      <td>-73.994355</td>\n",
       "      <td>40.728225</td>\n",
       "      <td>-73.994710</td>\n",
       "      <td>40.750325</td>\n",
       "      <td>1</td>\n",
       "    </tr>\n",
       "    <tr>\n",
       "      <th>2</th>\n",
       "      <td>44984355</td>\n",
       "      <td>2009-08-24 21:45:00.00000061</td>\n",
       "      <td>12.9</td>\n",
       "      <td>2009-08-24 21:45:00 UTC</td>\n",
       "      <td>-74.005043</td>\n",
       "      <td>40.740770</td>\n",
       "      <td>-73.962565</td>\n",
       "      <td>40.772647</td>\n",
       "      <td>1</td>\n",
       "    </tr>\n",
       "    <tr>\n",
       "      <th>3</th>\n",
       "      <td>25894730</td>\n",
       "      <td>2009-06-26 08:22:21.0000001</td>\n",
       "      <td>5.3</td>\n",
       "      <td>2009-06-26 08:22:21 UTC</td>\n",
       "      <td>-73.976124</td>\n",
       "      <td>40.790844</td>\n",
       "      <td>-73.965316</td>\n",
       "      <td>40.803349</td>\n",
       "      <td>3</td>\n",
       "    </tr>\n",
       "    <tr>\n",
       "      <th>4</th>\n",
       "      <td>17610152</td>\n",
       "      <td>2014-08-28 17:47:00.000000188</td>\n",
       "      <td>16.0</td>\n",
       "      <td>2014-08-28 17:47:00 UTC</td>\n",
       "      <td>-73.925023</td>\n",
       "      <td>40.744085</td>\n",
       "      <td>-73.973082</td>\n",
       "      <td>40.761247</td>\n",
       "      <td>5</td>\n",
       "    </tr>\n",
       "  </tbody>\n",
       "</table>\n",
       "</div>"
      ],
      "text/plain": [
       "   Unnamed: 0                            key  fare_amount  \\\n",
       "0    24238194    2015-05-07 19:52:06.0000003          7.5   \n",
       "1    27835199    2009-07-17 20:04:56.0000002          7.7   \n",
       "2    44984355   2009-08-24 21:45:00.00000061         12.9   \n",
       "3    25894730    2009-06-26 08:22:21.0000001          5.3   \n",
       "4    17610152  2014-08-28 17:47:00.000000188         16.0   \n",
       "\n",
       "           pickup_datetime  pickup_longitude  pickup_latitude  \\\n",
       "0  2015-05-07 19:52:06 UTC        -73.999817        40.738354   \n",
       "1  2009-07-17 20:04:56 UTC        -73.994355        40.728225   \n",
       "2  2009-08-24 21:45:00 UTC        -74.005043        40.740770   \n",
       "3  2009-06-26 08:22:21 UTC        -73.976124        40.790844   \n",
       "4  2014-08-28 17:47:00 UTC        -73.925023        40.744085   \n",
       "\n",
       "   dropoff_longitude  dropoff_latitude  passenger_count  \n",
       "0         -73.999512         40.723217                1  \n",
       "1         -73.994710         40.750325                1  \n",
       "2         -73.962565         40.772647                1  \n",
       "3         -73.965316         40.803349                3  \n",
       "4         -73.973082         40.761247                5  "
      ]
     },
     "execution_count": 7,
     "metadata": {},
     "output_type": "execute_result"
    }
   ],
   "source": [
    "DF.head()"
   ]
  },
  {
   "cell_type": "code",
   "execution_count": 8,
   "id": "e0b74bd2",
   "metadata": {},
   "outputs": [
    {
     "name": "stdout",
     "output_type": "stream",
     "text": [
      "<class 'pandas.core.frame.DataFrame'>\n",
      "RangeIndex: 200000 entries, 0 to 199999\n",
      "Data columns (total 9 columns):\n",
      " #   Column             Non-Null Count   Dtype  \n",
      "---  ------             --------------   -----  \n",
      " 0   Unnamed: 0         200000 non-null  int64  \n",
      " 1   key                200000 non-null  object \n",
      " 2   fare_amount        200000 non-null  float64\n",
      " 3   pickup_datetime    200000 non-null  object \n",
      " 4   pickup_longitude   200000 non-null  float64\n",
      " 5   pickup_latitude    200000 non-null  float64\n",
      " 6   dropoff_longitude  199999 non-null  float64\n",
      " 7   dropoff_latitude   199999 non-null  float64\n",
      " 8   passenger_count    200000 non-null  int64  \n",
      "dtypes: float64(5), int64(2), object(2)\n",
      "memory usage: 13.7+ MB\n"
     ]
    }
   ],
   "source": [
    "DF.info()"
   ]
  },
  {
   "cell_type": "code",
   "execution_count": 9,
   "id": "73677051",
   "metadata": {},
   "outputs": [
    {
     "data": {
      "text/html": [
       "<div>\n",
       "<style scoped>\n",
       "    .dataframe tbody tr th:only-of-type {\n",
       "        vertical-align: middle;\n",
       "    }\n",
       "\n",
       "    .dataframe tbody tr th {\n",
       "        vertical-align: top;\n",
       "    }\n",
       "\n",
       "    .dataframe thead th {\n",
       "        text-align: right;\n",
       "    }\n",
       "</style>\n",
       "<table border=\"1\" class=\"dataframe\">\n",
       "  <thead>\n",
       "    <tr style=\"text-align: right;\">\n",
       "      <th></th>\n",
       "      <th>count</th>\n",
       "      <th>mean</th>\n",
       "      <th>std</th>\n",
       "      <th>min</th>\n",
       "      <th>25%</th>\n",
       "      <th>50%</th>\n",
       "      <th>75%</th>\n",
       "      <th>max</th>\n",
       "    </tr>\n",
       "  </thead>\n",
       "  <tbody>\n",
       "    <tr>\n",
       "      <th>Unnamed: 0</th>\n",
       "      <td>200000.0</td>\n",
       "      <td>2.771250e+07</td>\n",
       "      <td>1.601382e+07</td>\n",
       "      <td>1.000000</td>\n",
       "      <td>1.382535e+07</td>\n",
       "      <td>2.774550e+07</td>\n",
       "      <td>4.155530e+07</td>\n",
       "      <td>5.542357e+07</td>\n",
       "    </tr>\n",
       "    <tr>\n",
       "      <th>fare_amount</th>\n",
       "      <td>200000.0</td>\n",
       "      <td>1.135996e+01</td>\n",
       "      <td>9.901776e+00</td>\n",
       "      <td>-52.000000</td>\n",
       "      <td>6.000000e+00</td>\n",
       "      <td>8.500000e+00</td>\n",
       "      <td>1.250000e+01</td>\n",
       "      <td>4.990000e+02</td>\n",
       "    </tr>\n",
       "    <tr>\n",
       "      <th>pickup_longitude</th>\n",
       "      <td>200000.0</td>\n",
       "      <td>-7.252764e+01</td>\n",
       "      <td>1.143779e+01</td>\n",
       "      <td>-1340.648410</td>\n",
       "      <td>-7.399206e+01</td>\n",
       "      <td>-7.398182e+01</td>\n",
       "      <td>-7.396715e+01</td>\n",
       "      <td>5.741846e+01</td>\n",
       "    </tr>\n",
       "    <tr>\n",
       "      <th>pickup_latitude</th>\n",
       "      <td>200000.0</td>\n",
       "      <td>3.993589e+01</td>\n",
       "      <td>7.720539e+00</td>\n",
       "      <td>-74.015515</td>\n",
       "      <td>4.073480e+01</td>\n",
       "      <td>4.075259e+01</td>\n",
       "      <td>4.076716e+01</td>\n",
       "      <td>1.644421e+03</td>\n",
       "    </tr>\n",
       "    <tr>\n",
       "      <th>dropoff_longitude</th>\n",
       "      <td>199999.0</td>\n",
       "      <td>-7.252529e+01</td>\n",
       "      <td>1.311741e+01</td>\n",
       "      <td>-3356.666300</td>\n",
       "      <td>-7.399141e+01</td>\n",
       "      <td>-7.398009e+01</td>\n",
       "      <td>-7.396366e+01</td>\n",
       "      <td>1.153573e+03</td>\n",
       "    </tr>\n",
       "    <tr>\n",
       "      <th>dropoff_latitude</th>\n",
       "      <td>199999.0</td>\n",
       "      <td>3.992389e+01</td>\n",
       "      <td>6.794829e+00</td>\n",
       "      <td>-881.985513</td>\n",
       "      <td>4.073382e+01</td>\n",
       "      <td>4.075304e+01</td>\n",
       "      <td>4.076800e+01</td>\n",
       "      <td>8.726976e+02</td>\n",
       "    </tr>\n",
       "    <tr>\n",
       "      <th>passenger_count</th>\n",
       "      <td>200000.0</td>\n",
       "      <td>1.684535e+00</td>\n",
       "      <td>1.385997e+00</td>\n",
       "      <td>0.000000</td>\n",
       "      <td>1.000000e+00</td>\n",
       "      <td>1.000000e+00</td>\n",
       "      <td>2.000000e+00</td>\n",
       "      <td>2.080000e+02</td>\n",
       "    </tr>\n",
       "  </tbody>\n",
       "</table>\n",
       "</div>"
      ],
      "text/plain": [
       "                      count          mean           std          min  \\\n",
       "Unnamed: 0         200000.0  2.771250e+07  1.601382e+07     1.000000   \n",
       "fare_amount        200000.0  1.135996e+01  9.901776e+00   -52.000000   \n",
       "pickup_longitude   200000.0 -7.252764e+01  1.143779e+01 -1340.648410   \n",
       "pickup_latitude    200000.0  3.993589e+01  7.720539e+00   -74.015515   \n",
       "dropoff_longitude  199999.0 -7.252529e+01  1.311741e+01 -3356.666300   \n",
       "dropoff_latitude   199999.0  3.992389e+01  6.794829e+00  -881.985513   \n",
       "passenger_count    200000.0  1.684535e+00  1.385997e+00     0.000000   \n",
       "\n",
       "                            25%           50%           75%           max  \n",
       "Unnamed: 0         1.382535e+07  2.774550e+07  4.155530e+07  5.542357e+07  \n",
       "fare_amount        6.000000e+00  8.500000e+00  1.250000e+01  4.990000e+02  \n",
       "pickup_longitude  -7.399206e+01 -7.398182e+01 -7.396715e+01  5.741846e+01  \n",
       "pickup_latitude    4.073480e+01  4.075259e+01  4.076716e+01  1.644421e+03  \n",
       "dropoff_longitude -7.399141e+01 -7.398009e+01 -7.396366e+01  1.153573e+03  \n",
       "dropoff_latitude   4.073382e+01  4.075304e+01  4.076800e+01  8.726976e+02  \n",
       "passenger_count    1.000000e+00  1.000000e+00  2.000000e+00  2.080000e+02  "
      ]
     },
     "execution_count": 9,
     "metadata": {},
     "output_type": "execute_result"
    }
   ],
   "source": [
    "DF.describe().T"
   ]
  },
  {
   "cell_type": "markdown",
   "id": "226e0971",
   "metadata": {},
   "source": [
    "- We got 9 features (2 objects 2 int and 5 float) consisting of 200,000 observations.\n",
    "- (key) column is not useful therefore it can be dropped.\n",
    "- (unnamed: 0) column can be renamed and used as Trip_ID for further analysis.\n",
    "- We got 1 missing value in both (lang, lat) columns which resemble 0.0005 of the DF.\n",
    "- Datetime column data type is 'object' which needs to be modified.\n",
    "- Possibility of outliear and false info in (fare, passenger_count) columns.\n",
    "- New features to consider (Distance, Year, Month, Week, Day, Pickup_hr)"
   ]
  },
  {
   "cell_type": "markdown",
   "id": "21becd9e",
   "metadata": {},
   "source": [
    "# Data Cleansing & Preparation"
   ]
  },
  {
   "cell_type": "code",
   "execution_count": 10,
   "id": "7f9381fc",
   "metadata": {},
   "outputs": [],
   "source": [
    "DF.rename(columns = {'Unnamed: 0':'Trip_ID'}, inplace = True)"
   ]
  },
  {
   "cell_type": "code",
   "execution_count": 11,
   "id": "1a50f9ce",
   "metadata": {},
   "outputs": [
    {
     "data": {
      "text/plain": [
       "Trip_ID              0\n",
       "key                  0\n",
       "fare_amount          0\n",
       "pickup_datetime      0\n",
       "pickup_longitude     0\n",
       "pickup_latitude      0\n",
       "dropoff_longitude    1\n",
       "dropoff_latitude     1\n",
       "passenger_count      0\n",
       "dtype: int64"
      ]
     },
     "execution_count": 11,
     "metadata": {},
     "output_type": "execute_result"
    }
   ],
   "source": [
    "DF.isnull().sum()"
   ]
  },
  {
   "cell_type": "code",
   "execution_count": 12,
   "id": "b81ee39f",
   "metadata": {},
   "outputs": [],
   "source": [
    "DF.dropna(inplace=True)\n",
    "DF.drop(['key'], axis=1, inplace=True)\n",
    "\n",
    "# Dropping unwanted Data"
   ]
  },
  {
   "cell_type": "code",
   "execution_count": 13,
   "id": "9e7f5c8b",
   "metadata": {},
   "outputs": [],
   "source": [
    "DF.pickup_datetime = pd.to_datetime(DF.pickup_datetime, errors = 'coerce')\n",
    "\n",
    "# Converting to the right datetime data type"
   ]
  },
  {
   "cell_type": "code",
   "execution_count": 14,
   "id": "8fbb865d",
   "metadata": {},
   "outputs": [
    {
     "data": {
      "text/html": [
       "<div>\n",
       "<style scoped>\n",
       "    .dataframe tbody tr th:only-of-type {\n",
       "        vertical-align: middle;\n",
       "    }\n",
       "\n",
       "    .dataframe tbody tr th {\n",
       "        vertical-align: top;\n",
       "    }\n",
       "\n",
       "    .dataframe thead th {\n",
       "        text-align: right;\n",
       "    }\n",
       "</style>\n",
       "<table border=\"1\" class=\"dataframe\">\n",
       "  <thead>\n",
       "    <tr style=\"text-align: right;\">\n",
       "      <th></th>\n",
       "      <th>count</th>\n",
       "      <th>mean</th>\n",
       "      <th>std</th>\n",
       "      <th>min</th>\n",
       "      <th>25%</th>\n",
       "      <th>50%</th>\n",
       "      <th>75%</th>\n",
       "      <th>max</th>\n",
       "    </tr>\n",
       "  </thead>\n",
       "  <tbody>\n",
       "    <tr>\n",
       "      <th>Trip_ID</th>\n",
       "      <td>199999.0</td>\n",
       "      <td>2.771248e+07</td>\n",
       "      <td>1.601386e+07</td>\n",
       "      <td>1.000000</td>\n",
       "      <td>1.382534e+07</td>\n",
       "      <td>2.774524e+07</td>\n",
       "      <td>4.155535e+07</td>\n",
       "      <td>5.542357e+07</td>\n",
       "    </tr>\n",
       "    <tr>\n",
       "      <th>fare_amount</th>\n",
       "      <td>199999.0</td>\n",
       "      <td>1.135989e+01</td>\n",
       "      <td>9.901760e+00</td>\n",
       "      <td>-52.000000</td>\n",
       "      <td>6.000000e+00</td>\n",
       "      <td>8.500000e+00</td>\n",
       "      <td>1.250000e+01</td>\n",
       "      <td>4.990000e+02</td>\n",
       "    </tr>\n",
       "    <tr>\n",
       "      <th>pickup_longitude</th>\n",
       "      <td>199999.0</td>\n",
       "      <td>-7.252763e+01</td>\n",
       "      <td>1.143782e+01</td>\n",
       "      <td>-1340.648410</td>\n",
       "      <td>-7.399206e+01</td>\n",
       "      <td>-7.398182e+01</td>\n",
       "      <td>-7.396715e+01</td>\n",
       "      <td>5.741846e+01</td>\n",
       "    </tr>\n",
       "    <tr>\n",
       "      <th>pickup_latitude</th>\n",
       "      <td>199999.0</td>\n",
       "      <td>3.993588e+01</td>\n",
       "      <td>7.720558e+00</td>\n",
       "      <td>-74.015515</td>\n",
       "      <td>4.073480e+01</td>\n",
       "      <td>4.075259e+01</td>\n",
       "      <td>4.076716e+01</td>\n",
       "      <td>1.644421e+03</td>\n",
       "    </tr>\n",
       "    <tr>\n",
       "      <th>dropoff_longitude</th>\n",
       "      <td>199999.0</td>\n",
       "      <td>-7.252529e+01</td>\n",
       "      <td>1.311741e+01</td>\n",
       "      <td>-3356.666300</td>\n",
       "      <td>-7.399141e+01</td>\n",
       "      <td>-7.398009e+01</td>\n",
       "      <td>-7.396366e+01</td>\n",
       "      <td>1.153573e+03</td>\n",
       "    </tr>\n",
       "    <tr>\n",
       "      <th>dropoff_latitude</th>\n",
       "      <td>199999.0</td>\n",
       "      <td>3.992389e+01</td>\n",
       "      <td>6.794829e+00</td>\n",
       "      <td>-881.985513</td>\n",
       "      <td>4.073382e+01</td>\n",
       "      <td>4.075304e+01</td>\n",
       "      <td>4.076800e+01</td>\n",
       "      <td>8.726976e+02</td>\n",
       "    </tr>\n",
       "    <tr>\n",
       "      <th>passenger_count</th>\n",
       "      <td>199999.0</td>\n",
       "      <td>1.684543e+00</td>\n",
       "      <td>1.385995e+00</td>\n",
       "      <td>0.000000</td>\n",
       "      <td>1.000000e+00</td>\n",
       "      <td>1.000000e+00</td>\n",
       "      <td>2.000000e+00</td>\n",
       "      <td>2.080000e+02</td>\n",
       "    </tr>\n",
       "  </tbody>\n",
       "</table>\n",
       "</div>"
      ],
      "text/plain": [
       "                      count          mean           std          min  \\\n",
       "Trip_ID            199999.0  2.771248e+07  1.601386e+07     1.000000   \n",
       "fare_amount        199999.0  1.135989e+01  9.901760e+00   -52.000000   \n",
       "pickup_longitude   199999.0 -7.252763e+01  1.143782e+01 -1340.648410   \n",
       "pickup_latitude    199999.0  3.993588e+01  7.720558e+00   -74.015515   \n",
       "dropoff_longitude  199999.0 -7.252529e+01  1.311741e+01 -3356.666300   \n",
       "dropoff_latitude   199999.0  3.992389e+01  6.794829e+00  -881.985513   \n",
       "passenger_count    199999.0  1.684543e+00  1.385995e+00     0.000000   \n",
       "\n",
       "                            25%           50%           75%           max  \n",
       "Trip_ID            1.382534e+07  2.774524e+07  4.155535e+07  5.542357e+07  \n",
       "fare_amount        6.000000e+00  8.500000e+00  1.250000e+01  4.990000e+02  \n",
       "pickup_longitude  -7.399206e+01 -7.398182e+01 -7.396715e+01  5.741846e+01  \n",
       "pickup_latitude    4.073480e+01  4.075259e+01  4.076716e+01  1.644421e+03  \n",
       "dropoff_longitude -7.399141e+01 -7.398009e+01 -7.396366e+01  1.153573e+03  \n",
       "dropoff_latitude   4.073382e+01  4.075304e+01  4.076800e+01  8.726976e+02  \n",
       "passenger_count    1.000000e+00  1.000000e+00  2.000000e+00  2.080000e+02  "
      ]
     },
     "execution_count": 14,
     "metadata": {},
     "output_type": "execute_result"
    }
   ],
   "source": [
    "DF.describe().T"
   ]
  },
  {
   "cell_type": "code",
   "execution_count": 15,
   "id": "5d447a23",
   "metadata": {},
   "outputs": [
    {
     "name": "stdout",
     "output_type": "stream",
     "text": [
      "<class 'pandas.core.frame.DataFrame'>\n",
      "Int64Index: 199999 entries, 0 to 199999\n",
      "Data columns (total 8 columns):\n",
      " #   Column             Non-Null Count   Dtype              \n",
      "---  ------             --------------   -----              \n",
      " 0   Trip_ID            199999 non-null  int64              \n",
      " 1   fare_amount        199999 non-null  float64            \n",
      " 2   pickup_datetime    199999 non-null  datetime64[ns, UTC]\n",
      " 3   pickup_longitude   199999 non-null  float64            \n",
      " 4   pickup_latitude    199999 non-null  float64            \n",
      " 5   dropoff_longitude  199999 non-null  float64            \n",
      " 6   dropoff_latitude   199999 non-null  float64            \n",
      " 7   passenger_count    199999 non-null  int64              \n",
      "dtypes: datetime64[ns, UTC](1), float64(5), int64(2)\n",
      "memory usage: 13.7 MB\n"
     ]
    }
   ],
   "source": [
    "DF.info()\n",
    "\n",
    "# Checking Modified DF"
   ]
  },
  {
   "cell_type": "markdown",
   "id": "a9a8e729",
   "metadata": {},
   "source": [
    "# Haversine Formula to Calculate Distance\n"
   ]
  },
  {
   "cell_type": "code",
   "execution_count": 16,
   "id": "f04e63db",
   "metadata": {},
   "outputs": [],
   "source": [
    "def distance_transform(longitude1, latitude1, longitude2, latitude2):\n",
    "    Distance = []\n",
    "    \n",
    "    for pos in range(len(longitude1)):\n",
    "        long1,lati1,long2,lati2 = map(radians,[longitude1[pos],latitude1[pos],longitude2[pos],latitude2[pos]])\n",
    "        dist_long = long2 - long1\n",
    "        dist_lati = lati2 - lati1\n",
    "        a = sin(dist_lati/2)**2 + cos(lati1) * cos(lati2) * sin(dist_long/2)**2\n",
    "        c = 2 * asin(sqrt(a))*6371\n",
    "        Distance.append(c)\n",
    "       \n",
    "    return Distance\n",
    "\n",
    "DF['Distance_km'] = distance_transform(DF['pickup_longitude'].to_numpy(),\n",
    "                                                DF['pickup_latitude'].to_numpy(),\n",
    "                                                DF['dropoff_longitude'].to_numpy(),\n",
    "                                                DF['dropoff_latitude'].to_numpy()\n",
    "                                              )\n",
    "\n",
    "# haversine distance formula: d = 2R × sin⁻¹(√[sin²((θ₂ - θ₁)/2) + cosθ₁ × cosθ₂ × sin²((φ₂ - φ₁)/2)])."
   ]
  },
  {
   "cell_type": "code",
   "execution_count": 17,
   "id": "5a476e9f",
   "metadata": {},
   "outputs": [],
   "source": [
    "DF= DF.assign(Pickup_hr = DF.pickup_datetime.dt.hour,\n",
    "             Day= DF.pickup_datetime.dt.day,\n",
    "             Month = DF.pickup_datetime.dt.month,\n",
    "             Year = DF.pickup_datetime.dt.year,\n",
    "             Day_of_week = DF.pickup_datetime.dt.dayofweek)\n",
    "DF['day_name'] = pd.to_datetime(DF['pickup_datetime']).dt.day_name()   # Different way to assigen new column\n",
    "\n",
    "# Extracting new columns from datetime columns to help us in further analysis"
   ]
  },
  {
   "cell_type": "code",
   "execution_count": 18,
   "id": "8621644c",
   "metadata": {},
   "outputs": [
    {
     "data": {
      "text/html": [
       "<div>\n",
       "<style scoped>\n",
       "    .dataframe tbody tr th:only-of-type {\n",
       "        vertical-align: middle;\n",
       "    }\n",
       "\n",
       "    .dataframe tbody tr th {\n",
       "        vertical-align: top;\n",
       "    }\n",
       "\n",
       "    .dataframe thead th {\n",
       "        text-align: right;\n",
       "    }\n",
       "</style>\n",
       "<table border=\"1\" class=\"dataframe\">\n",
       "  <thead>\n",
       "    <tr style=\"text-align: right;\">\n",
       "      <th></th>\n",
       "      <th>Trip_ID</th>\n",
       "      <th>fare_amount</th>\n",
       "      <th>pickup_datetime</th>\n",
       "      <th>pickup_longitude</th>\n",
       "      <th>pickup_latitude</th>\n",
       "      <th>dropoff_longitude</th>\n",
       "      <th>dropoff_latitude</th>\n",
       "      <th>passenger_count</th>\n",
       "      <th>Distance_km</th>\n",
       "      <th>Pickup_hr</th>\n",
       "      <th>Day</th>\n",
       "      <th>Month</th>\n",
       "      <th>Year</th>\n",
       "      <th>Day_of_week</th>\n",
       "      <th>day_name</th>\n",
       "    </tr>\n",
       "  </thead>\n",
       "  <tbody>\n",
       "    <tr>\n",
       "      <th>0</th>\n",
       "      <td>24238194</td>\n",
       "      <td>7.5</td>\n",
       "      <td>2015-05-07 19:52:06+00:00</td>\n",
       "      <td>-73.999817</td>\n",
       "      <td>40.738354</td>\n",
       "      <td>-73.999512</td>\n",
       "      <td>40.723217</td>\n",
       "      <td>1</td>\n",
       "      <td>1.683323</td>\n",
       "      <td>19</td>\n",
       "      <td>7</td>\n",
       "      <td>5</td>\n",
       "      <td>2015</td>\n",
       "      <td>3</td>\n",
       "      <td>Thursday</td>\n",
       "    </tr>\n",
       "    <tr>\n",
       "      <th>1</th>\n",
       "      <td>27835199</td>\n",
       "      <td>7.7</td>\n",
       "      <td>2009-07-17 20:04:56+00:00</td>\n",
       "      <td>-73.994355</td>\n",
       "      <td>40.728225</td>\n",
       "      <td>-73.994710</td>\n",
       "      <td>40.750325</td>\n",
       "      <td>1</td>\n",
       "      <td>2.457590</td>\n",
       "      <td>20</td>\n",
       "      <td>17</td>\n",
       "      <td>7</td>\n",
       "      <td>2009</td>\n",
       "      <td>4</td>\n",
       "      <td>Friday</td>\n",
       "    </tr>\n",
       "    <tr>\n",
       "      <th>2</th>\n",
       "      <td>44984355</td>\n",
       "      <td>12.9</td>\n",
       "      <td>2009-08-24 21:45:00+00:00</td>\n",
       "      <td>-74.005043</td>\n",
       "      <td>40.740770</td>\n",
       "      <td>-73.962565</td>\n",
       "      <td>40.772647</td>\n",
       "      <td>1</td>\n",
       "      <td>5.036377</td>\n",
       "      <td>21</td>\n",
       "      <td>24</td>\n",
       "      <td>8</td>\n",
       "      <td>2009</td>\n",
       "      <td>0</td>\n",
       "      <td>Monday</td>\n",
       "    </tr>\n",
       "    <tr>\n",
       "      <th>3</th>\n",
       "      <td>25894730</td>\n",
       "      <td>5.3</td>\n",
       "      <td>2009-06-26 08:22:21+00:00</td>\n",
       "      <td>-73.976124</td>\n",
       "      <td>40.790844</td>\n",
       "      <td>-73.965316</td>\n",
       "      <td>40.803349</td>\n",
       "      <td>3</td>\n",
       "      <td>1.661683</td>\n",
       "      <td>8</td>\n",
       "      <td>26</td>\n",
       "      <td>6</td>\n",
       "      <td>2009</td>\n",
       "      <td>4</td>\n",
       "      <td>Friday</td>\n",
       "    </tr>\n",
       "    <tr>\n",
       "      <th>4</th>\n",
       "      <td>17610152</td>\n",
       "      <td>16.0</td>\n",
       "      <td>2014-08-28 17:47:00+00:00</td>\n",
       "      <td>-73.925023</td>\n",
       "      <td>40.744085</td>\n",
       "      <td>-73.973082</td>\n",
       "      <td>40.761247</td>\n",
       "      <td>5</td>\n",
       "      <td>4.475450</td>\n",
       "      <td>17</td>\n",
       "      <td>28</td>\n",
       "      <td>8</td>\n",
       "      <td>2014</td>\n",
       "      <td>3</td>\n",
       "      <td>Thursday</td>\n",
       "    </tr>\n",
       "  </tbody>\n",
       "</table>\n",
       "</div>"
      ],
      "text/plain": [
       "    Trip_ID  fare_amount           pickup_datetime  pickup_longitude  \\\n",
       "0  24238194          7.5 2015-05-07 19:52:06+00:00        -73.999817   \n",
       "1  27835199          7.7 2009-07-17 20:04:56+00:00        -73.994355   \n",
       "2  44984355         12.9 2009-08-24 21:45:00+00:00        -74.005043   \n",
       "3  25894730          5.3 2009-06-26 08:22:21+00:00        -73.976124   \n",
       "4  17610152         16.0 2014-08-28 17:47:00+00:00        -73.925023   \n",
       "\n",
       "   pickup_latitude  dropoff_longitude  dropoff_latitude  passenger_count  \\\n",
       "0        40.738354         -73.999512         40.723217                1   \n",
       "1        40.728225         -73.994710         40.750325                1   \n",
       "2        40.740770         -73.962565         40.772647                1   \n",
       "3        40.790844         -73.965316         40.803349                3   \n",
       "4        40.744085         -73.973082         40.761247                5   \n",
       "\n",
       "   Distance_km  Pickup_hr  Day  Month  Year  Day_of_week  day_name  \n",
       "0     1.683323         19    7      5  2015            3  Thursday  \n",
       "1     2.457590         20   17      7  2009            4    Friday  \n",
       "2     5.036377         21   24      8  2009            0    Monday  \n",
       "3     1.661683          8   26      6  2009            4    Friday  \n",
       "4     4.475450         17   28      8  2014            3  Thursday  "
      ]
     },
     "execution_count": 18,
     "metadata": {},
     "output_type": "execute_result"
    }
   ],
   "source": [
    "DF.head()"
   ]
  },
  {
   "cell_type": "markdown",
   "id": "9b8dc230",
   "metadata": {},
   "source": [
    "# Outliers Detection and Treatmeant"
   ]
  },
  {
   "cell_type": "code",
   "execution_count": 19,
   "id": "a0acf601",
   "metadata": {},
   "outputs": [],
   "source": [
    "def find_outliers_IQR(DF):\n",
    "\n",
    "   q1=DF.quantile(0.25)\n",
    "\n",
    "   q3=DF.quantile(0.75)\n",
    "\n",
    "   IQR=q3-q1\n",
    "\n",
    "   outliers = DF[((DF<(q1-1.5*IQR)) | (DF>(q3+1.5*IQR)))]\n",
    "\n",
    "   return outliers"
   ]
  },
  {
   "cell_type": "code",
   "execution_count": 20,
   "id": "7f6bfffd",
   "metadata": {},
   "outputs": [
    {
     "name": "stdout",
     "output_type": "stream",
     "text": [
      "number of outliers:17166\n",
      "max outlier value:499.0\n",
      "min outlier value:-52.0\n"
     ]
    },
    {
     "data": {
      "text/plain": [
       "6         24.50\n",
       "30        25.70\n",
       "34        39.50\n",
       "39        29.00\n",
       "48        56.80\n",
       "          ...  \n",
       "199976    49.70\n",
       "199977    43.50\n",
       "199982    57.33\n",
       "199985    24.00\n",
       "199997    30.90\n",
       "Name: fare_amount, Length: 17166, dtype: float64"
      ]
     },
     "execution_count": 20,
     "metadata": {},
     "output_type": "execute_result"
    }
   ],
   "source": [
    "outliers = find_outliers_IQR(DF['fare_amount'])\n",
    "\n",
    "print('number of outliers:' + str(len(outliers)))\n",
    "\n",
    "print('max outlier value:' + str(outliers.max()))\n",
    "\n",
    "print('min outlier value:' + str(outliers.min()))\n",
    "\n",
    "outliers"
   ]
  },
  {
   "cell_type": "code",
   "execution_count": 21,
   "id": "24d9523d",
   "metadata": {},
   "outputs": [
    {
     "name": "stdout",
     "output_type": "stream",
     "text": [
      "number of outliers:22557\n",
      "max outlier value:208\n",
      "min outlier value:4\n"
     ]
    },
    {
     "data": {
      "text/plain": [
       "4         5\n",
       "6         5\n",
       "12        5\n",
       "24        5\n",
       "29        5\n",
       "         ..\n",
       "199958    5\n",
       "199959    5\n",
       "199962    4\n",
       "199969    5\n",
       "199985    5\n",
       "Name: passenger_count, Length: 22557, dtype: int64"
      ]
     },
     "execution_count": 21,
     "metadata": {},
     "output_type": "execute_result"
    }
   ],
   "source": [
    "outliers = find_outliers_IQR(DF['passenger_count'])\n",
    "\n",
    "print('number of outliers:' + str(len(outliers)))\n",
    "\n",
    "print('max outlier value:' + str(outliers.max()))\n",
    "\n",
    "print('min outlier value:' + str(outliers.min()))\n",
    "\n",
    "outliers"
   ]
  },
  {
   "cell_type": "markdown",
   "id": "bae13d58",
   "metadata": {},
   "source": [
    "Although this method is useful in many cases to detect outliers but in this case it's not the optimal choice since it indicates 4 as an outlier for passngers number which clearly is a valid number that needs to be kept, so we got to use our intution and internet to determine outliers in a better way."
   ]
  },
  {
   "cell_type": "code",
   "execution_count": 19,
   "id": "9ca15f1c",
   "metadata": {},
   "outputs": [
    {
     "data": {
      "text/plain": [
       "Text(0, 0.5, 'fare_amount')"
      ]
     },
     "execution_count": 19,
     "metadata": {},
     "output_type": "execute_result"
    },
    {
     "data": {
      "image/png": "[encoded data removed]",
      "text/plain": [
       "<Figure size 640x480 with 1 Axes>"
      ]
     },
     "metadata": {},
     "output_type": "display_data"
    }
   ],
   "source": [
    "plt.scatter(DF['Distance_km'], DF['fare_amount'])\n",
    "plt.xlabel(\"Distance_km\")\n",
    "plt.ylabel(\"fare_amount\")\n"
   ]
  },
  {
   "cell_type": "code",
   "execution_count": 20,
   "id": "10d4fe5c",
   "metadata": {},
   "outputs": [
    {
     "data": {
      "text/plain": [
       "Text(0, 0.5, 'passenger_count')"
      ]
     },
     "execution_count": 20,
     "metadata": {},
     "output_type": "execute_result"
    },
    {
     "data": {
      "image/png": "[encoded data removed]",
      "text/plain": [
       "<Figure size 640x480 with 1 Axes>"
      ]
     },
     "metadata": {},
     "output_type": "display_data"
    }
   ],
   "source": [
    "plt.scatter(DF['Distance_km'], DF['passenger_count'])\n",
    "plt.xlabel(\"Distance_km\")\n",
    "plt.ylabel(\"passenger_count\")"
   ]
  },
  {
   "cell_type": "markdown",
   "id": "c8f46574",
   "metadata": {},
   "source": [
    "We can see outliers in all 3 features (Passnger_count, fare_amount, Distance_km)\n",
    "- Uber max passnger count is 6\n",
    "- Uber introduced uber eats and uber package within the data frame period therefore 0 passnger trips are allowed to stay\n",
    "- Uber has no distance limitions but commen sense compels us to set distance to 60km max and trips with 0km is unvalid\n",
    "- Fare can't be negative, and can't exceed 100usd, even generous tips wouldn't be inserted as trip price."
   ]
  },
  {
   "cell_type": "code",
   "execution_count": 22,
   "id": "7afa2c40",
   "metadata": {},
   "outputs": [
    {
     "name": "stdout",
     "output_type": "stream",
     "text": [
      "<class 'pandas.core.frame.DataFrame'>\n",
      "Int64Index: 199999 entries, 0 to 199999\n",
      "Data columns (total 15 columns):\n",
      " #   Column             Non-Null Count   Dtype              \n",
      "---  ------             --------------   -----              \n",
      " 0   Trip_ID            199999 non-null  int64              \n",
      " 1   fare_amount        199999 non-null  float64            \n",
      " 2   pickup_datetime    199999 non-null  datetime64[ns, UTC]\n",
      " 3   pickup_longitude   199999 non-null  float64            \n",
      " 4   pickup_latitude    199999 non-null  float64            \n",
      " 5   dropoff_longitude  199999 non-null  float64            \n",
      " 6   dropoff_latitude   199999 non-null  float64            \n",
      " 7   passenger_count    199999 non-null  int64              \n",
      " 8   Distance_km        199999 non-null  float64            \n",
      " 9   Pickup_hr          199999 non-null  int64              \n",
      " 10  Day                199999 non-null  int64              \n",
      " 11  Month              199999 non-null  int64              \n",
      " 12  Year               199999 non-null  int64              \n",
      " 13  Day_of_week        199999 non-null  int64              \n",
      " 14  day_name           199999 non-null  object             \n",
      "dtypes: datetime64[ns, UTC](1), float64(6), int64(7), object(1)\n",
      "memory usage: 24.4+ MB\n"
     ]
    }
   ],
   "source": [
    "DF.info()"
   ]
  },
  {
   "cell_type": "code",
   "execution_count": 23,
   "id": "93b69cf0",
   "metadata": {},
   "outputs": [
    {
     "name": "stdout",
     "output_type": "stream",
     "text": [
      "<class 'pandas.core.frame.DataFrame'>\n",
      "Int64Index: 193786 entries, 0 to 199999\n",
      "Data columns (total 15 columns):\n",
      " #   Column             Non-Null Count   Dtype              \n",
      "---  ------             --------------   -----              \n",
      " 0   Trip_ID            193786 non-null  int64              \n",
      " 1   fare_amount        193786 non-null  float64            \n",
      " 2   pickup_datetime    193786 non-null  datetime64[ns, UTC]\n",
      " 3   pickup_longitude   193786 non-null  float64            \n",
      " 4   pickup_latitude    193786 non-null  float64            \n",
      " 5   dropoff_longitude  193786 non-null  float64            \n",
      " 6   dropoff_latitude   193786 non-null  float64            \n",
      " 7   passenger_count    193786 non-null  int64              \n",
      " 8   Distance_km        193786 non-null  float64            \n",
      " 9   Pickup_hr          193786 non-null  int64              \n",
      " 10  Day                193786 non-null  int64              \n",
      " 11  Month              193786 non-null  int64              \n",
      " 12  Year               193786 non-null  int64              \n",
      " 13  Day_of_week        193786 non-null  int64              \n",
      " 14  day_name           193786 non-null  object             \n",
      "dtypes: datetime64[ns, UTC](1), float64(6), int64(7), object(1)\n",
      "memory usage: 23.7+ MB\n"
     ]
    }
   ],
   "source": [
    "DF.drop(DF[DF['Distance_km'] == 0].index, inplace = True)\n",
    "DF.drop(DF[DF['Distance_km'] > 60].index, inplace = True)\n",
    "DF.drop(DF[DF['fare_amount'] > 100].index, inplace = True)\n",
    "DF.drop(DF[DF['fare_amount'] < 0].index, inplace = True)\n",
    "\n",
    "DF.drop(DF[DF['passenger_count'] > 6].index, inplace = True)\n",
    "\n",
    "\n",
    "DF.info()"
   ]
  },
  {
   "cell_type": "code",
   "execution_count": 23,
   "id": "89eee3c5",
   "metadata": {},
   "outputs": [
    {
     "data": {
      "text/plain": [
       "<Figure size 1000x600 with 0 Axes>"
      ]
     },
     "execution_count": 23,
     "metadata": {},
     "output_type": "execute_result"
    },
    {
     "data": {
      "image/png": "[encoded data removed]",
      "text/plain": [
       "<Figure size 640x480 with 1 Axes>"
      ]
     },
     "metadata": {},
     "output_type": "display_data"
    },
    {
     "data": {
      "text/plain": [
       "<Figure size 1000x600 with 0 Axes>"
      ]
     },
     "metadata": {},
     "output_type": "display_data"
    }
   ],
   "source": [
    "plt.scatter(DF['Distance_km'], DF['fare_amount'])\n",
    "plt.xlabel(\"Distance_km\")\n",
    "plt.ylabel(\"fare_amount\")\n",
    "plt.figure(figsize=(10, 6))"
   ]
  },
  {
   "cell_type": "code",
   "execution_count": 24,
   "id": "ef6c4976",
   "metadata": {},
   "outputs": [
    {
     "data": {
      "text/plain": [
       "<Figure size 1000x600 with 0 Axes>"
      ]
     },
     "execution_count": 24,
     "metadata": {},
     "output_type": "execute_result"
    },
    {
     "data": {
      "image/png": "[encoded data removed]",
      "text/plain": [
       "<Figure size 640x480 with 1 Axes>"
      ]
     },
     "metadata": {},
     "output_type": "display_data"
    },
    {
     "data": {
      "text/plain": [
       "<Figure size 1000x600 with 0 Axes>"
      ]
     },
     "metadata": {},
     "output_type": "display_data"
    }
   ],
   "source": [
    "plt.scatter(DF['Distance_km'], DF['passenger_count'])\n",
    "plt.xlabel(\"Distance_km\")\n",
    "plt.ylabel(\"passenger_count\")\n",
    "plt.figure(figsize=(10, 6))\n"
   ]
  },
  {
   "cell_type": "markdown",
   "id": "fc5a17f1",
   "metadata": {},
   "source": [
    "                          Now the scatter plot looks more disgustable \n"
   ]
  },
  {
   "cell_type": "markdown",
   "id": "85d7b137",
   "metadata": {},
   "source": [
    "# Descriptive Analysis & Visualization"
   ]
  },
  {
   "cell_type": "code",
   "execution_count": 24,
   "id": "e52ffd90",
   "metadata": {},
   "outputs": [],
   "source": [
    "DF['Count'] = 1"
   ]
  },
  {
   "cell_type": "code",
   "execution_count": 26,
   "id": "fac36251",
   "metadata": {},
   "outputs": [
    {
     "name": "stdout",
     "output_type": "stream",
     "text": [
      "Average trips a year: \n",
      "[2009, 2010, 2011, 2012, 2013, 2014, 2015] [29757, 29157, 30756, 31180, 30387, 29093, 13456]\n"
     ]
    },
    {
     "data": {
      "text/plain": [
       "<BarContainer object of 7 artists>"
      ]
     },
     "execution_count": 26,
     "metadata": {},
     "output_type": "execute_result"
    },
    {
     "data": {
      "image/png": "[encoded data removed]",
      "text/plain": [
       "<Figure size 640x480 with 1 Axes>"
      ]
     },
     "metadata": {},
     "output_type": "display_data"
    }
   ],
   "source": [
    "no_of_trips = []\n",
    "year = [2009, 2010, 2011, 2012, 2013, 2014, 2015]\n",
    "\n",
    "colors = sns.color_palette('Set1')\n",
    "\n",
    "for i in range(2009, 2016):\n",
    "    x = DF.loc[DF['Year'] == i, 'Count'].sum()\n",
    "    no_of_trips.append(x)\n",
    "\n",
    "print(\"Average trips a year: \")\n",
    "print(year, no_of_trips)\n",
    "\n",
    "\n",
    "plt.title(\"Average Yearly Trips\")\n",
    "plt.xlabel(\"Years\")\n",
    "plt.ylabel(\"Number of Trips\")\n",
    "\n",
    "plt.bar(year, no_of_trips, color=colors)"
   ]
  },
  {
   "cell_type": "code",
   "execution_count": 27,
   "id": "8dba7750",
   "metadata": {},
   "outputs": [
    {
     "name": "stdout",
     "output_type": "stream",
     "text": [
      "Average trips a Month: \n",
      "['Jan', 'Feb', 'Mar', 'Apr', 'May', 'Jun', 'Jul', 'Aug', 'Sep', 'Oct', 'Nov', 'Dec'] [17153, 16160, 18194, 18036, 18280, 17230, 14602, 13691, 14802, 15720, 14848, 15070]\n"
     ]
    },
    {
     "data": {
      "text/plain": [
       "<BarContainer object of 12 artists>"
      ]
     },
     "execution_count": 27,
     "metadata": {},
     "output_type": "execute_result"
    },
    {
     "data": {
      "image/png": "[encoded data removed]",
      "text/plain": [
       "<Figure size 640x480 with 1 Axes>"
      ]
     },
     "metadata": {},
     "output_type": "display_data"
    }
   ],
   "source": [
    "no_of_trips = []\n",
    "month = ['Jan', 'Feb', 'Mar', 'Apr', 'May', 'Jun', 'Jul', 'Aug', 'Sep', 'Oct', 'Nov', 'Dec']\n",
    "\n",
    "colors = sns.color_palette('Paired')\n",
    "\n",
    "for i in range(1, 13):\n",
    "    x = DF.loc[DF['Month'] == i, 'Count'].sum()\n",
    "    no_of_trips.append(x)\n",
    "\n",
    "print(\"Average trips a Month: \")\n",
    "print(month, no_of_trips)\n",
    "\n",
    "\n",
    "plt.title(\"Average Monthly Trips\")\n",
    "plt.xlabel(\"Months\")\n",
    "plt.ylabel(\"Number of Trips\")\n",
    "\n",
    "plt.bar(month, no_of_trips, color=colors)"
   ]
  },
  {
   "cell_type": "code",
   "execution_count": 28,
   "id": "dd5d2a28",
   "metadata": {},
   "outputs": [
    {
     "name": "stdout",
     "output_type": "stream",
     "text": [
      "Average trips by Days: \n",
      "['Mon', 'Tue', 'Wed', 'Thu', 'Fri', 'Sat', 'Sun'] [24422, 27284, 28115, 29100, 29908, 29353, 25604]\n"
     ]
    },
    {
     "data": {
      "text/plain": [
       "<BarContainer object of 7 artists>"
      ]
     },
     "execution_count": 28,
     "metadata": {},
     "output_type": "execute_result"
    },
    {
     "data": {
      "image/png": "[encoded data removed]",
      "text/plain": [
       "<Figure size 1000x600 with 1 Axes>"
      ]
     },
     "metadata": {},
     "output_type": "display_data"
    }
   ],
   "source": [
    "no_of_trips = []\n",
    "day = ['Mon', 'Tue', 'Wed', 'Thu', 'Fri', 'Sat', 'Sun']\n",
    "\n",
    "colors = sns.color_palette('Set1')\n",
    "\n",
    "for i in range(0, 7):\n",
    "    x = DF.loc[DF['Day_of_week'] == i, 'Count'].sum()\n",
    "    no_of_trips.append(x)\n",
    "\n",
    "print(\"Average trips by Days: \")\n",
    "print(day, no_of_trips)\n",
    "\n",
    "plt.figure(figsize=(10, 6))\n",
    "plt.title(\"Average Daily Trips\")\n",
    "plt.xlabel(\"Days\")\n",
    "plt.ylabel(\"Number of Trips\")\n",
    "\n",
    "plt.bar(day, no_of_trips, color=colors)"
   ]
  },
  {
   "cell_type": "code",
   "execution_count": 29,
   "id": "d2a8348e",
   "metadata": {},
   "outputs": [],
   "source": [
    "DF_1 = DF[['Distance_km', 'Day_of_week', 'Pickup_hr']].copy()\n",
    "\n",
    "DF_H = DF_1.copy()\n",
    "\n",
    "DF_H = DF_H.groupby(['Pickup_hr', 'Day_of_week']).mean()\n",
    "DF_H = DF_H.unstack(level=0)\n"
   ]
  },
  {
   "cell_type": "code",
   "execution_count": 30,
   "id": "80655e7a",
   "metadata": {},
   "outputs": [
    {
     "data": {
      "image/png": "[encoded data removed]",
      "text/plain": [
       "<Figure size 2400x700 with 2 Axes>"
      ]
     },
     "metadata": {},
     "output_type": "display_data"
    }
   ],
   "source": [
    "fig, ax = plt.subplots(figsize=(24, 7))\n",
    "sns.heatmap(DF_H, cmap=\"Greens\",\n",
    "           linewidth=.3, cbar_kws={\"shrink\": .8})\n",
    "\n",
    "xticks_labels = ['12 AM', '01 AM', '02 AM ', '03 AM ', '04 AM ', '05 AM ', '06 AM ', '07 AM ', \n",
    "                 '08 AM ', '09 AM ', '10 AM ', '11 AM ', '12 PM ', '01 PM ', '02 PM ', '03 PM ',\n",
    "                 '04 PM ', '05 PM ', '06 PM ', '07 PM ', '08 PM ', '09 PM ', '10 PM ', '11 PM ']\n",
    "\n",
    "yticks_labels = ['Mon','Tue','Wed','Thu','Fri','Sat','Sun']\n",
    "\n",
    "plt.xticks(np.arange(24) + .5, labels=xticks_labels)\n",
    "plt.yticks(np.arange(7) + .5, labels=yticks_labels)\n",
    "\n",
    "ax.xaxis.tick_top()\n",
    "\n",
    "title = 'Weekly Uber Rides'.upper()\n",
    "plt.title(title, fontdict={'fontsize': 25})\n",
    "\n",
    "plt.show()"
   ]
  },
  {
   "cell_type": "code",
   "execution_count": 30,
   "id": "7ef9414f",
   "metadata": {},
   "outputs": [
    {
     "data": {
      "text/html": [
       "<style  type=\"text/css\" >\n",
       "#T_cd275ec2_006b_11ee_8639_3c2c30ee3a5crow0_col0,#T_cd275ec2_006b_11ee_8639_3c2c30ee3a5crow1_col1,#T_cd275ec2_006b_11ee_8639_3c2c30ee3a5crow2_col2,#T_cd275ec2_006b_11ee_8639_3c2c30ee3a5crow2_col4,#T_cd275ec2_006b_11ee_8639_3c2c30ee3a5crow3_col3,#T_cd275ec2_006b_11ee_8639_3c2c30ee3a5crow4_col2,#T_cd275ec2_006b_11ee_8639_3c2c30ee3a5crow4_col4,#T_cd275ec2_006b_11ee_8639_3c2c30ee3a5crow5_col5,#T_cd275ec2_006b_11ee_8639_3c2c30ee3a5crow6_col6,#T_cd275ec2_006b_11ee_8639_3c2c30ee3a5crow7_col7,#T_cd275ec2_006b_11ee_8639_3c2c30ee3a5crow8_col8,#T_cd275ec2_006b_11ee_8639_3c2c30ee3a5crow9_col9,#T_cd275ec2_006b_11ee_8639_3c2c30ee3a5crow10_col10,#T_cd275ec2_006b_11ee_8639_3c2c30ee3a5crow11_col11,#T_cd275ec2_006b_11ee_8639_3c2c30ee3a5crow12_col12{\n",
       "            background-color:  #4d004b;\n",
       "            color:  #f1f1f1;\n",
       "        }#T_cd275ec2_006b_11ee_8639_3c2c30ee3a5crow0_col1,#T_cd275ec2_006b_11ee_8639_3c2c30ee3a5crow0_col9,#T_cd275ec2_006b_11ee_8639_3c2c30ee3a5crow1_col9,#T_cd275ec2_006b_11ee_8639_3c2c30ee3a5crow3_col2,#T_cd275ec2_006b_11ee_8639_3c2c30ee3a5crow3_col4,#T_cd275ec2_006b_11ee_8639_3c2c30ee3a5crow6_col9,#T_cd275ec2_006b_11ee_8639_3c2c30ee3a5crow7_col9,#T_cd275ec2_006b_11ee_8639_3c2c30ee3a5crow9_col1{\n",
       "            background-color:  #f3f9fc;\n",
       "            color:  #000000;\n",
       "        }#T_cd275ec2_006b_11ee_8639_3c2c30ee3a5crow0_col2,#T_cd275ec2_006b_11ee_8639_3c2c30ee3a5crow0_col4,#T_cd275ec2_006b_11ee_8639_3c2c30ee3a5crow0_col5,#T_cd275ec2_006b_11ee_8639_3c2c30ee3a5crow7_col5,#T_cd275ec2_006b_11ee_8639_3c2c30ee3a5crow8_col2,#T_cd275ec2_006b_11ee_8639_3c2c30ee3a5crow8_col4,#T_cd275ec2_006b_11ee_8639_3c2c30ee3a5crow8_col5{\n",
       "            background-color:  #8c97c6;\n",
       "            color:  #000000;\n",
       "        }#T_cd275ec2_006b_11ee_8639_3c2c30ee3a5crow0_col3,#T_cd275ec2_006b_11ee_8639_3c2c30ee3a5crow8_col3{\n",
       "            background-color:  #8e9ac8;\n",
       "            color:  #000000;\n",
       "        }#T_cd275ec2_006b_11ee_8639_3c2c30ee3a5crow0_col6,#T_cd275ec2_006b_11ee_8639_3c2c30ee3a5crow9_col6{\n",
       "            background-color:  #f5fafc;\n",
       "            color:  #000000;\n",
       "        }#T_cd275ec2_006b_11ee_8639_3c2c30ee3a5crow0_col7,#T_cd275ec2_006b_11ee_8639_3c2c30ee3a5crow4_col1,#T_cd275ec2_006b_11ee_8639_3c2c30ee3a5crow5_col7{\n",
       "            background-color:  #f2f8fb;\n",
       "            color:  #000000;\n",
       "        }#T_cd275ec2_006b_11ee_8639_3c2c30ee3a5crow0_col8,#T_cd275ec2_006b_11ee_8639_3c2c30ee3a5crow2_col8,#T_cd275ec2_006b_11ee_8639_3c2c30ee3a5crow4_col8,#T_cd275ec2_006b_11ee_8639_3c2c30ee3a5crow5_col8,#T_cd275ec2_006b_11ee_8639_3c2c30ee3a5crow11_col8{\n",
       "            background-color:  #e9f2f7;\n",
       "            color:  #000000;\n",
       "        }#T_cd275ec2_006b_11ee_8639_3c2c30ee3a5crow0_col10,#T_cd275ec2_006b_11ee_8639_3c2c30ee3a5crow0_col11,#T_cd275ec2_006b_11ee_8639_3c2c30ee3a5crow8_col11{\n",
       "            background-color:  #e4eff6;\n",
       "            color:  #000000;\n",
       "        }#T_cd275ec2_006b_11ee_8639_3c2c30ee3a5crow0_col12,#T_cd275ec2_006b_11ee_8639_3c2c30ee3a5crow3_col8,#T_cd275ec2_006b_11ee_8639_3c2c30ee3a5crow10_col8{\n",
       "            background-color:  #e9f2f8;\n",
       "            color:  #000000;\n",
       "        }#T_cd275ec2_006b_11ee_8639_3c2c30ee3a5crow0_col13,#T_cd275ec2_006b_11ee_8639_3c2c30ee3a5crow1_col13,#T_cd275ec2_006b_11ee_8639_3c2c30ee3a5crow2_col13,#T_cd275ec2_006b_11ee_8639_3c2c30ee3a5crow3_col13,#T_cd275ec2_006b_11ee_8639_3c2c30ee3a5crow4_col13,#T_cd275ec2_006b_11ee_8639_3c2c30ee3a5crow5_col13,#T_cd275ec2_006b_11ee_8639_3c2c30ee3a5crow6_col13,#T_cd275ec2_006b_11ee_8639_3c2c30ee3a5crow7_col13,#T_cd275ec2_006b_11ee_8639_3c2c30ee3a5crow8_col13,#T_cd275ec2_006b_11ee_8639_3c2c30ee3a5crow9_col13,#T_cd275ec2_006b_11ee_8639_3c2c30ee3a5crow10_col13,#T_cd275ec2_006b_11ee_8639_3c2c30ee3a5crow11_col13,#T_cd275ec2_006b_11ee_8639_3c2c30ee3a5crow12_col13,#T_cd275ec2_006b_11ee_8639_3c2c30ee3a5crow13_col0,#T_cd275ec2_006b_11ee_8639_3c2c30ee3a5crow13_col1,#T_cd275ec2_006b_11ee_8639_3c2c30ee3a5crow13_col2,#T_cd275ec2_006b_11ee_8639_3c2c30ee3a5crow13_col3,#T_cd275ec2_006b_11ee_8639_3c2c30ee3a5crow13_col4,#T_cd275ec2_006b_11ee_8639_3c2c30ee3a5crow13_col5,#T_cd275ec2_006b_11ee_8639_3c2c30ee3a5crow13_col6,#T_cd275ec2_006b_11ee_8639_3c2c30ee3a5crow13_col7,#T_cd275ec2_006b_11ee_8639_3c2c30ee3a5crow13_col8,#T_cd275ec2_006b_11ee_8639_3c2c30ee3a5crow13_col9,#T_cd275ec2_006b_11ee_8639_3c2c30ee3a5crow13_col10,#T_cd275ec2_006b_11ee_8639_3c2c30ee3a5crow13_col11,#T_cd275ec2_006b_11ee_8639_3c2c30ee3a5crow13_col12,#T_cd275ec2_006b_11ee_8639_3c2c30ee3a5crow13_col13{\n",
       "            background-color:  #000000;\n",
       "            color:  #f1f1f1;\n",
       "        }#T_cd275ec2_006b_11ee_8639_3c2c30ee3a5crow1_col0,#T_cd275ec2_006b_11ee_8639_3c2c30ee3a5crow2_col0,#T_cd275ec2_006b_11ee_8639_3c2c30ee3a5crow3_col0,#T_cd275ec2_006b_11ee_8639_3c2c30ee3a5crow4_col0,#T_cd275ec2_006b_11ee_8639_3c2c30ee3a5crow5_col0,#T_cd275ec2_006b_11ee_8639_3c2c30ee3a5crow6_col0,#T_cd275ec2_006b_11ee_8639_3c2c30ee3a5crow7_col0,#T_cd275ec2_006b_11ee_8639_3c2c30ee3a5crow8_col0,#T_cd275ec2_006b_11ee_8639_3c2c30ee3a5crow9_col0,#T_cd275ec2_006b_11ee_8639_3c2c30ee3a5crow10_col0,#T_cd275ec2_006b_11ee_8639_3c2c30ee3a5crow11_col9{\n",
       "            background-color:  #f6fbfd;\n",
       "            color:  #000000;\n",
       "        }#T_cd275ec2_006b_11ee_8639_3c2c30ee3a5crow1_col2,#T_cd275ec2_006b_11ee_8639_3c2c30ee3a5crow11_col2,#T_cd275ec2_006b_11ee_8639_3c2c30ee3a5crow11_col4{\n",
       "            background-color:  #8c94c5;\n",
       "            color:  #000000;\n",
       "        }#T_cd275ec2_006b_11ee_8639_3c2c30ee3a5crow1_col3,#T_cd275ec2_006b_11ee_8639_3c2c30ee3a5crow6_col3,#T_cd275ec2_006b_11ee_8639_3c2c30ee3a5crow12_col3{\n",
       "            background-color:  #8f9bc9;\n",
       "            color:  #000000;\n",
       "        }#T_cd275ec2_006b_11ee_8639_3c2c30ee3a5crow1_col4,#T_cd275ec2_006b_11ee_8639_3c2c30ee3a5crow6_col2,#T_cd275ec2_006b_11ee_8639_3c2c30ee3a5crow6_col4,#T_cd275ec2_006b_11ee_8639_3c2c30ee3a5crow7_col2,#T_cd275ec2_006b_11ee_8639_3c2c30ee3a5crow7_col4,#T_cd275ec2_006b_11ee_8639_3c2c30ee3a5crow10_col5,#T_cd275ec2_006b_11ee_8639_3c2c30ee3a5crow12_col2,#T_cd275ec2_006b_11ee_8639_3c2c30ee3a5crow12_col4{\n",
       "            background-color:  #8c95c6;\n",
       "            color:  #000000;\n",
       "        }#T_cd275ec2_006b_11ee_8639_3c2c30ee3a5crow1_col5,#T_cd275ec2_006b_11ee_8639_3c2c30ee3a5crow6_col5,#T_cd275ec2_006b_11ee_8639_3c2c30ee3a5crow10_col2,#T_cd275ec2_006b_11ee_8639_3c2c30ee3a5crow10_col4,#T_cd275ec2_006b_11ee_8639_3c2c30ee3a5crow12_col5{\n",
       "            background-color:  #8d98c7;\n",
       "            color:  #000000;\n",
       "        }#T_cd275ec2_006b_11ee_8639_3c2c30ee3a5crow1_col6,#T_cd275ec2_006b_11ee_8639_3c2c30ee3a5crow8_col6,#T_cd275ec2_006b_11ee_8639_3c2c30ee3a5crow8_col9,#T_cd275ec2_006b_11ee_8639_3c2c30ee3a5crow12_col1,#T_cd275ec2_006b_11ee_8639_3c2c30ee3a5crow12_col9{\n",
       "            background-color:  #f3f9fb;\n",
       "            color:  #000000;\n",
       "        }#T_cd275ec2_006b_11ee_8639_3c2c30ee3a5crow1_col7{\n",
       "            background-color:  #790d75;\n",
       "            color:  #f1f1f1;\n",
       "        }#T_cd275ec2_006b_11ee_8639_3c2c30ee3a5crow1_col8{\n",
       "            background-color:  #ecf4f9;\n",
       "            color:  #000000;\n",
       "        }#T_cd275ec2_006b_11ee_8639_3c2c30ee3a5crow1_col10,#T_cd275ec2_006b_11ee_8639_3c2c30ee3a5crow7_col11{\n",
       "            background-color:  #e0ecf4;\n",
       "            color:  #000000;\n",
       "        }#T_cd275ec2_006b_11ee_8639_3c2c30ee3a5crow1_col11{\n",
       "            background-color:  #c9dbea;\n",
       "            color:  #000000;\n",
       "        }#T_cd275ec2_006b_11ee_8639_3c2c30ee3a5crow1_col12,#T_cd275ec2_006b_11ee_8639_3c2c30ee3a5crow9_col8,#T_cd275ec2_006b_11ee_8639_3c2c30ee3a5crow9_col12,#T_cd275ec2_006b_11ee_8639_3c2c30ee3a5crow11_col12{\n",
       "            background-color:  #e8f1f7;\n",
       "            color:  #000000;\n",
       "        }#T_cd275ec2_006b_11ee_8639_3c2c30ee3a5crow2_col1,#T_cd275ec2_006b_11ee_8639_3c2c30ee3a5crow3_col7,#T_cd275ec2_006b_11ee_8639_3c2c30ee3a5crow6_col1,#T_cd275ec2_006b_11ee_8639_3c2c30ee3a5crow9_col7{\n",
       "            background-color:  #f1f8fb;\n",
       "            color:  #000000;\n",
       "        }#T_cd275ec2_006b_11ee_8639_3c2c30ee3a5crow2_col3,#T_cd275ec2_006b_11ee_8639_3c2c30ee3a5crow2_col5,#T_cd275ec2_006b_11ee_8639_3c2c30ee3a5crow3_col6,#T_cd275ec2_006b_11ee_8639_3c2c30ee3a5crow3_col9,#T_cd275ec2_006b_11ee_8639_3c2c30ee3a5crow4_col3,#T_cd275ec2_006b_11ee_8639_3c2c30ee3a5crow4_col5,#T_cd275ec2_006b_11ee_8639_3c2c30ee3a5crow5_col2,#T_cd275ec2_006b_11ee_8639_3c2c30ee3a5crow5_col4,#T_cd275ec2_006b_11ee_8639_3c2c30ee3a5crow5_col6,#T_cd275ec2_006b_11ee_8639_3c2c30ee3a5crow5_col9,#T_cd275ec2_006b_11ee_8639_3c2c30ee3a5crow8_col1,#T_cd275ec2_006b_11ee_8639_3c2c30ee3a5crow8_col7,#T_cd275ec2_006b_11ee_8639_3c2c30ee3a5crow8_col12,#T_cd275ec2_006b_11ee_8639_3c2c30ee3a5crow10_col9,#T_cd275ec2_006b_11ee_8639_3c2c30ee3a5crow10_col11,#T_cd275ec2_006b_11ee_8639_3c2c30ee3a5crow11_col0,#T_cd275ec2_006b_11ee_8639_3c2c30ee3a5crow11_col10,#T_cd275ec2_006b_11ee_8639_3c2c30ee3a5crow12_col0,#T_cd275ec2_006b_11ee_8639_3c2c30ee3a5crow12_col8{\n",
       "            background-color:  #f7fcfd;\n",
       "            color:  #000000;\n",
       "        }#T_cd275ec2_006b_11ee_8639_3c2c30ee3a5crow2_col6,#T_cd275ec2_006b_11ee_8639_3c2c30ee3a5crow4_col6,#T_cd275ec2_006b_11ee_8639_3c2c30ee3a5crow7_col6,#T_cd275ec2_006b_11ee_8639_3c2c30ee3a5crow10_col6,#T_cd275ec2_006b_11ee_8639_3c2c30ee3a5crow11_col6{\n",
       "            background-color:  #f4fafc;\n",
       "            color:  #000000;\n",
       "        }#T_cd275ec2_006b_11ee_8639_3c2c30ee3a5crow2_col7,#T_cd275ec2_006b_11ee_8639_3c2c30ee3a5crow2_col9,#T_cd275ec2_006b_11ee_8639_3c2c30ee3a5crow4_col7,#T_cd275ec2_006b_11ee_8639_3c2c30ee3a5crow4_col9{\n",
       "            background-color:  #f1f7fa;\n",
       "            color:  #000000;\n",
       "        }#T_cd275ec2_006b_11ee_8639_3c2c30ee3a5crow2_col10,#T_cd275ec2_006b_11ee_8639_3c2c30ee3a5crow4_col10,#T_cd275ec2_006b_11ee_8639_3c2c30ee3a5crow7_col12,#T_cd275ec2_006b_11ee_8639_3c2c30ee3a5crow12_col10{\n",
       "            background-color:  #e6f0f6;\n",
       "            color:  #000000;\n",
       "        }#T_cd275ec2_006b_11ee_8639_3c2c30ee3a5crow2_col11,#T_cd275ec2_006b_11ee_8639_3c2c30ee3a5crow4_col11,#T_cd275ec2_006b_11ee_8639_3c2c30ee3a5crow6_col12,#T_cd275ec2_006b_11ee_8639_3c2c30ee3a5crow7_col10{\n",
       "            background-color:  #e2edf5;\n",
       "            color:  #000000;\n",
       "        }#T_cd275ec2_006b_11ee_8639_3c2c30ee3a5crow2_col12,#T_cd275ec2_006b_11ee_8639_3c2c30ee3a5crow4_col12,#T_cd275ec2_006b_11ee_8639_3c2c30ee3a5crow9_col10{\n",
       "            background-color:  #e7f1f7;\n",
       "            color:  #000000;\n",
       "        }#T_cd275ec2_006b_11ee_8639_3c2c30ee3a5crow3_col1,#T_cd275ec2_006b_11ee_8639_3c2c30ee3a5crow5_col1{\n",
       "            background-color:  #f6fbfc;\n",
       "            color:  #000000;\n",
       "        }#T_cd275ec2_006b_11ee_8639_3c2c30ee3a5crow3_col5,#T_cd275ec2_006b_11ee_8639_3c2c30ee3a5crow5_col3{\n",
       "            background-color:  #550253;\n",
       "            color:  #f1f1f1;\n",
       "        }#T_cd275ec2_006b_11ee_8639_3c2c30ee3a5crow3_col10,#T_cd275ec2_006b_11ee_8639_3c2c30ee3a5crow5_col10,#T_cd275ec2_006b_11ee_8639_3c2c30ee3a5crow6_col10{\n",
       "            background-color:  #e3eef5;\n",
       "            color:  #000000;\n",
       "        }#T_cd275ec2_006b_11ee_8639_3c2c30ee3a5crow3_col11,#T_cd275ec2_006b_11ee_8639_3c2c30ee3a5crow5_col11,#T_cd275ec2_006b_11ee_8639_3c2c30ee3a5crow6_col8,#T_cd275ec2_006b_11ee_8639_3c2c30ee3a5crow9_col11{\n",
       "            background-color:  #e6f0f7;\n",
       "            color:  #000000;\n",
       "        }#T_cd275ec2_006b_11ee_8639_3c2c30ee3a5crow3_col12,#T_cd275ec2_006b_11ee_8639_3c2c30ee3a5crow5_col12,#T_cd275ec2_006b_11ee_8639_3c2c30ee3a5crow10_col12{\n",
       "            background-color:  #eaf3f8;\n",
       "            color:  #000000;\n",
       "        }#T_cd275ec2_006b_11ee_8639_3c2c30ee3a5crow6_col7{\n",
       "            background-color:  #f0f7fa;\n",
       "            color:  #000000;\n",
       "        }#T_cd275ec2_006b_11ee_8639_3c2c30ee3a5crow6_col11,#T_cd275ec2_006b_11ee_8639_3c2c30ee3a5crow12_col11{\n",
       "            background-color:  #e4eef5;\n",
       "            color:  #000000;\n",
       "        }#T_cd275ec2_006b_11ee_8639_3c2c30ee3a5crow7_col1{\n",
       "            background-color:  #7b0d76;\n",
       "            color:  #f1f1f1;\n",
       "        }#T_cd275ec2_006b_11ee_8639_3c2c30ee3a5crow7_col3,#T_cd275ec2_006b_11ee_8639_3c2c30ee3a5crow9_col5,#T_cd275ec2_006b_11ee_8639_3c2c30ee3a5crow10_col3,#T_cd275ec2_006b_11ee_8639_3c2c30ee3a5crow11_col5{\n",
       "            background-color:  #8d99c8;\n",
       "            color:  #000000;\n",
       "        }#T_cd275ec2_006b_11ee_8639_3c2c30ee3a5crow7_col8,#T_cd275ec2_006b_11ee_8639_3c2c30ee3a5crow12_col7{\n",
       "            background-color:  #eef6fa;\n",
       "            color:  #000000;\n",
       "        }#T_cd275ec2_006b_11ee_8639_3c2c30ee3a5crow8_col10{\n",
       "            background-color:  #e5eff6;\n",
       "            color:  #000000;\n",
       "        }#T_cd275ec2_006b_11ee_8639_3c2c30ee3a5crow9_col2,#T_cd275ec2_006b_11ee_8639_3c2c30ee3a5crow9_col4{\n",
       "            background-color:  #8c93c4;\n",
       "            color:  #000000;\n",
       "        }#T_cd275ec2_006b_11ee_8639_3c2c30ee3a5crow9_col3,#T_cd275ec2_006b_11ee_8639_3c2c30ee3a5crow11_col3{\n",
       "            background-color:  #8f9dc9;\n",
       "            color:  #000000;\n",
       "        }#T_cd275ec2_006b_11ee_8639_3c2c30ee3a5crow10_col1,#T_cd275ec2_006b_11ee_8639_3c2c30ee3a5crow10_col7,#T_cd275ec2_006b_11ee_8639_3c2c30ee3a5crow12_col6{\n",
       "            background-color:  #eff6fa;\n",
       "            color:  #000000;\n",
       "        }#T_cd275ec2_006b_11ee_8639_3c2c30ee3a5crow11_col1{\n",
       "            background-color:  #dce9f2;\n",
       "            color:  #000000;\n",
       "        }#T_cd275ec2_006b_11ee_8639_3c2c30ee3a5crow11_col7{\n",
       "            background-color:  #edf5f9;\n",
       "            color:  #000000;\n",
       "        }</style><table id=\"T_cd275ec2_006b_11ee_8639_3c2c30ee3a5c\" ><thead>    <tr>        <th class=\"blank level0\" ></th>        <th class=\"col_heading level0 col0\" >Trip_ID</th>        <th class=\"col_heading level0 col1\" >fare_amount</th>        <th class=\"col_heading level0 col2\" >pickup_longitude</th>        <th class=\"col_heading level0 col3\" >pickup_latitude</th>        <th class=\"col_heading level0 col4\" >dropoff_longitude</th>        <th class=\"col_heading level0 col5\" >dropoff_latitude</th>        <th class=\"col_heading level0 col6\" >passenger_count</th>        <th class=\"col_heading level0 col7\" >Distance_km</th>        <th class=\"col_heading level0 col8\" >Pickup_hr</th>        <th class=\"col_heading level0 col9\" >Day</th>        <th class=\"col_heading level0 col10\" >Month</th>        <th class=\"col_heading level0 col11\" >Year</th>        <th class=\"col_heading level0 col12\" >Day_of_week</th>        <th class=\"col_heading level0 col13\" >Count</th>    </tr></thead><tbody>\n",
       "                <tr>\n",
       "                        <th id=\"T_cd275ec2_006b_11ee_8639_3c2c30ee3a5clevel0_row0\" class=\"row_heading level0 row0\" >Trip_ID</th>\n",
       "                        <td id=\"T_cd275ec2_006b_11ee_8639_3c2c30ee3a5crow0_col0\" class=\"data row0 col0\" >1.000000</td>\n",
       "                        <td id=\"T_cd275ec2_006b_11ee_8639_3c2c30ee3a5crow0_col1\" class=\"data row0 col1\" >-0.000040</td>\n",
       "                        <td id=\"T_cd275ec2_006b_11ee_8639_3c2c30ee3a5crow0_col2\" class=\"data row0 col2\" >-0.000421</td>\n",
       "                        <td id=\"T_cd275ec2_006b_11ee_8639_3c2c30ee3a5crow0_col3\" class=\"data row0 col3\" >-0.000830</td>\n",
       "                        <td id=\"T_cd275ec2_006b_11ee_8639_3c2c30ee3a5crow0_col4\" class=\"data row0 col4\" >-0.000370</td>\n",
       "                        <td id=\"T_cd275ec2_006b_11ee_8639_3c2c30ee3a5crow0_col5\" class=\"data row0 col5\" >0.000215</td>\n",
       "                        <td id=\"T_cd275ec2_006b_11ee_8639_3c2c30ee3a5crow0_col6\" class=\"data row0 col6\" >0.002583</td>\n",
       "                        <td id=\"T_cd275ec2_006b_11ee_8639_3c2c30ee3a5crow0_col7\" class=\"data row0 col7\" >-0.000701</td>\n",
       "                        <td id=\"T_cd275ec2_006b_11ee_8639_3c2c30ee3a5crow0_col8\" class=\"data row0 col8\" >0.000160</td>\n",
       "                        <td id=\"T_cd275ec2_006b_11ee_8639_3c2c30ee3a5crow0_col9\" class=\"data row0 col9\" >0.000480</td>\n",
       "                        <td id=\"T_cd275ec2_006b_11ee_8639_3c2c30ee3a5crow0_col10\" class=\"data row0 col10\" >0.001952</td>\n",
       "                        <td id=\"T_cd275ec2_006b_11ee_8639_3c2c30ee3a5crow0_col11\" class=\"data row0 col11\" >-0.001095</td>\n",
       "                        <td id=\"T_cd275ec2_006b_11ee_8639_3c2c30ee3a5crow0_col12\" class=\"data row0 col12\" >-0.004786</td>\n",
       "                        <td id=\"T_cd275ec2_006b_11ee_8639_3c2c30ee3a5crow0_col13\" class=\"data row0 col13\" >nan</td>\n",
       "            </tr>\n",
       "            <tr>\n",
       "                        <th id=\"T_cd275ec2_006b_11ee_8639_3c2c30ee3a5clevel0_row1\" class=\"row_heading level0 row1\" >fare_amount</th>\n",
       "                        <td id=\"T_cd275ec2_006b_11ee_8639_3c2c30ee3a5crow1_col0\" class=\"data row1 col0\" >-0.000040</td>\n",
       "                        <td id=\"T_cd275ec2_006b_11ee_8639_3c2c30ee3a5crow1_col1\" class=\"data row1 col1\" >1.000000</td>\n",
       "                        <td id=\"T_cd275ec2_006b_11ee_8639_3c2c30ee3a5crow1_col2\" class=\"data row1 col2\" >0.012186</td>\n",
       "                        <td id=\"T_cd275ec2_006b_11ee_8639_3c2c30ee3a5crow1_col3\" class=\"data row1 col3\" >-0.008814</td>\n",
       "                        <td id=\"T_cd275ec2_006b_11ee_8639_3c2c30ee3a5crow1_col4\" class=\"data row1 col4\" >0.010735</td>\n",
       "                        <td id=\"T_cd275ec2_006b_11ee_8639_3c2c30ee3a5crow1_col5\" class=\"data row1 col5\" >-0.008965</td>\n",
       "                        <td id=\"T_cd275ec2_006b_11ee_8639_3c2c30ee3a5crow1_col6\" class=\"data row1 col6\" >0.014658</td>\n",
       "                        <td id=\"T_cd275ec2_006b_11ee_8639_3c2c30ee3a5crow1_col7\" class=\"data row1 col7\" >0.887071</td>\n",
       "                        <td id=\"T_cd275ec2_006b_11ee_8639_3c2c30ee3a5crow1_col8\" class=\"data row1 col8\" >-0.020679</td>\n",
       "                        <td id=\"T_cd275ec2_006b_11ee_8639_3c2c30ee3a5crow1_col9\" class=\"data row1 col9\" >0.000727</td>\n",
       "                        <td id=\"T_cd275ec2_006b_11ee_8639_3c2c30ee3a5crow1_col10\" class=\"data row1 col10\" >0.024816</td>\n",
       "                        <td id=\"T_cd275ec2_006b_11ee_8639_3c2c30ee3a5crow1_col11\" class=\"data row1 col11\" >0.122906</td>\n",
       "                        <td id=\"T_cd275ec2_006b_11ee_8639_3c2c30ee3a5crow1_col12\" class=\"data row1 col12\" >0.005181</td>\n",
       "                        <td id=\"T_cd275ec2_006b_11ee_8639_3c2c30ee3a5crow1_col13\" class=\"data row1 col13\" >nan</td>\n",
       "            </tr>\n",
       "            <tr>\n",
       "                        <th id=\"T_cd275ec2_006b_11ee_8639_3c2c30ee3a5clevel0_row2\" class=\"row_heading level0 row2\" >pickup_longitude</th>\n",
       "                        <td id=\"T_cd275ec2_006b_11ee_8639_3c2c30ee3a5crow2_col0\" class=\"data row2 col0\" >-0.000421</td>\n",
       "                        <td id=\"T_cd275ec2_006b_11ee_8639_3c2c30ee3a5crow2_col1\" class=\"data row2 col1\" >0.012186</td>\n",
       "                        <td id=\"T_cd275ec2_006b_11ee_8639_3c2c30ee3a5crow2_col2\" class=\"data row2 col2\" >1.000000</td>\n",
       "                        <td id=\"T_cd275ec2_006b_11ee_8639_3c2c30ee3a5crow2_col3\" class=\"data row2 col3\" >-0.949098</td>\n",
       "                        <td id=\"T_cd275ec2_006b_11ee_8639_3c2c30ee3a5crow2_col4\" class=\"data row2 col4\" >0.999885</td>\n",
       "                        <td id=\"T_cd275ec2_006b_11ee_8639_3c2c30ee3a5crow2_col5\" class=\"data row2 col5\" >-0.993975</td>\n",
       "                        <td id=\"T_cd275ec2_006b_11ee_8639_3c2c30ee3a5crow2_col6\" class=\"data row2 col6\" >0.009756</td>\n",
       "                        <td id=\"T_cd275ec2_006b_11ee_8639_3c2c30ee3a5crow2_col7\" class=\"data row2 col7\" >0.005374</td>\n",
       "                        <td id=\"T_cd275ec2_006b_11ee_8639_3c2c30ee3a5crow2_col8\" class=\"data row2 col8\" >0.001839</td>\n",
       "                        <td id=\"T_cd275ec2_006b_11ee_8639_3c2c30ee3a5crow2_col9\" class=\"data row2 col9\" >0.019515</td>\n",
       "                        <td id=\"T_cd275ec2_006b_11ee_8639_3c2c30ee3a5crow2_col10\" class=\"data row2 col10\" >-0.007490</td>\n",
       "                        <td id=\"T_cd275ec2_006b_11ee_8639_3c2c30ee3a5crow2_col11\" class=\"data row2 col11\" >0.013472</td>\n",
       "                        <td id=\"T_cd275ec2_006b_11ee_8639_3c2c30ee3a5crow2_col12\" class=\"data row2 col12\" >0.008235</td>\n",
       "                        <td id=\"T_cd275ec2_006b_11ee_8639_3c2c30ee3a5crow2_col13\" class=\"data row2 col13\" >nan</td>\n",
       "            </tr>\n",
       "            <tr>\n",
       "                        <th id=\"T_cd275ec2_006b_11ee_8639_3c2c30ee3a5clevel0_row3\" class=\"row_heading level0 row3\" >pickup_latitude</th>\n",
       "                        <td id=\"T_cd275ec2_006b_11ee_8639_3c2c30ee3a5crow3_col0\" class=\"data row3 col0\" >-0.000830</td>\n",
       "                        <td id=\"T_cd275ec2_006b_11ee_8639_3c2c30ee3a5crow3_col1\" class=\"data row3 col1\" >-0.008814</td>\n",
       "                        <td id=\"T_cd275ec2_006b_11ee_8639_3c2c30ee3a5crow3_col2\" class=\"data row3 col2\" >-0.949098</td>\n",
       "                        <td id=\"T_cd275ec2_006b_11ee_8639_3c2c30ee3a5crow3_col3\" class=\"data row3 col3\" >1.000000</td>\n",
       "                        <td id=\"T_cd275ec2_006b_11ee_8639_3c2c30ee3a5crow3_col4\" class=\"data row3 col4\" >-0.949095</td>\n",
       "                        <td id=\"T_cd275ec2_006b_11ee_8639_3c2c30ee3a5crow3_col5\" class=\"data row3 col5\" >0.954760</td>\n",
       "                        <td id=\"T_cd275ec2_006b_11ee_8639_3c2c30ee3a5crow3_col6\" class=\"data row3 col6\" >-0.009814</td>\n",
       "                        <td id=\"T_cd275ec2_006b_11ee_8639_3c2c30ee3a5crow3_col7\" class=\"data row3 col7\" >0.003213</td>\n",
       "                        <td id=\"T_cd275ec2_006b_11ee_8639_3c2c30ee3a5crow3_col8\" class=\"data row3 col8\" >-0.001821</td>\n",
       "                        <td id=\"T_cd275ec2_006b_11ee_8639_3c2c30ee3a5crow3_col9\" class=\"data row3 col9\" >-0.019372</td>\n",
       "                        <td id=\"T_cd275ec2_006b_11ee_8639_3c2c30ee3a5crow3_col10\" class=\"data row3 col10\" >0.007595</td>\n",
       "                        <td id=\"T_cd275ec2_006b_11ee_8639_3c2c30ee3a5crow3_col11\" class=\"data row3 col11\" >-0.013687</td>\n",
       "                        <td id=\"T_cd275ec2_006b_11ee_8639_3c2c30ee3a5crow3_col12\" class=\"data row3 col12\" >-0.008918</td>\n",
       "                        <td id=\"T_cd275ec2_006b_11ee_8639_3c2c30ee3a5crow3_col13\" class=\"data row3 col13\" >nan</td>\n",
       "            </tr>\n",
       "            <tr>\n",
       "                        <th id=\"T_cd275ec2_006b_11ee_8639_3c2c30ee3a5clevel0_row4\" class=\"row_heading level0 row4\" >dropoff_longitude</th>\n",
       "                        <td id=\"T_cd275ec2_006b_11ee_8639_3c2c30ee3a5crow4_col0\" class=\"data row4 col0\" >-0.000370</td>\n",
       "                        <td id=\"T_cd275ec2_006b_11ee_8639_3c2c30ee3a5crow4_col1\" class=\"data row4 col1\" >0.010735</td>\n",
       "                        <td id=\"T_cd275ec2_006b_11ee_8639_3c2c30ee3a5crow4_col2\" class=\"data row4 col2\" >0.999885</td>\n",
       "                        <td id=\"T_cd275ec2_006b_11ee_8639_3c2c30ee3a5crow4_col3\" class=\"data row4 col3\" >-0.949095</td>\n",
       "                        <td id=\"T_cd275ec2_006b_11ee_8639_3c2c30ee3a5crow4_col4\" class=\"data row4 col4\" >1.000000</td>\n",
       "                        <td id=\"T_cd275ec2_006b_11ee_8639_3c2c30ee3a5crow4_col5\" class=\"data row4 col5\" >-0.993963</td>\n",
       "                        <td id=\"T_cd275ec2_006b_11ee_8639_3c2c30ee3a5crow4_col6\" class=\"data row4 col6\" >0.009744</td>\n",
       "                        <td id=\"T_cd275ec2_006b_11ee_8639_3c2c30ee3a5crow4_col7\" class=\"data row4 col7\" >0.004482</td>\n",
       "                        <td id=\"T_cd275ec2_006b_11ee_8639_3c2c30ee3a5crow4_col8\" class=\"data row4 col8\" >0.000942</td>\n",
       "                        <td id=\"T_cd275ec2_006b_11ee_8639_3c2c30ee3a5crow4_col9\" class=\"data row4 col9\" >0.019539</td>\n",
       "                        <td id=\"T_cd275ec2_006b_11ee_8639_3c2c30ee3a5crow4_col10\" class=\"data row4 col10\" >-0.007445</td>\n",
       "                        <td id=\"T_cd275ec2_006b_11ee_8639_3c2c30ee3a5crow4_col11\" class=\"data row4 col11\" >0.013365</td>\n",
       "                        <td id=\"T_cd275ec2_006b_11ee_8639_3c2c30ee3a5crow4_col12\" class=\"data row4 col12\" >0.008536</td>\n",
       "                        <td id=\"T_cd275ec2_006b_11ee_8639_3c2c30ee3a5crow4_col13\" class=\"data row4 col13\" >nan</td>\n",
       "            </tr>\n",
       "            <tr>\n",
       "                        <th id=\"T_cd275ec2_006b_11ee_8639_3c2c30ee3a5clevel0_row5\" class=\"row_heading level0 row5\" >dropoff_latitude</th>\n",
       "                        <td id=\"T_cd275ec2_006b_11ee_8639_3c2c30ee3a5crow5_col0\" class=\"data row5 col0\" >0.000215</td>\n",
       "                        <td id=\"T_cd275ec2_006b_11ee_8639_3c2c30ee3a5crow5_col1\" class=\"data row5 col1\" >-0.008965</td>\n",
       "                        <td id=\"T_cd275ec2_006b_11ee_8639_3c2c30ee3a5crow5_col2\" class=\"data row5 col2\" >-0.993975</td>\n",
       "                        <td id=\"T_cd275ec2_006b_11ee_8639_3c2c30ee3a5crow5_col3\" class=\"data row5 col3\" >0.954760</td>\n",
       "                        <td id=\"T_cd275ec2_006b_11ee_8639_3c2c30ee3a5crow5_col4\" class=\"data row5 col4\" >-0.993963</td>\n",
       "                        <td id=\"T_cd275ec2_006b_11ee_8639_3c2c30ee3a5crow5_col5\" class=\"data row5 col5\" >1.000000</td>\n",
       "                        <td id=\"T_cd275ec2_006b_11ee_8639_3c2c30ee3a5crow5_col6\" class=\"data row5 col6\" >-0.009862</td>\n",
       "                        <td id=\"T_cd275ec2_006b_11ee_8639_3c2c30ee3a5crow5_col7\" class=\"data row5 col7\" >-0.002283</td>\n",
       "                        <td id=\"T_cd275ec2_006b_11ee_8639_3c2c30ee3a5crow5_col8\" class=\"data row5 col8\" >-0.001018</td>\n",
       "                        <td id=\"T_cd275ec2_006b_11ee_8639_3c2c30ee3a5crow5_col9\" class=\"data row5 col9\" >-0.020097</td>\n",
       "                        <td id=\"T_cd275ec2_006b_11ee_8639_3c2c30ee3a5crow5_col10\" class=\"data row5 col10\" >0.007974</td>\n",
       "                        <td id=\"T_cd275ec2_006b_11ee_8639_3c2c30ee3a5crow5_col11\" class=\"data row5 col11\" >-0.014359</td>\n",
       "                        <td id=\"T_cd275ec2_006b_11ee_8639_3c2c30ee3a5crow5_col12\" class=\"data row5 col12\" >-0.008910</td>\n",
       "                        <td id=\"T_cd275ec2_006b_11ee_8639_3c2c30ee3a5crow5_col13\" class=\"data row5 col13\" >nan</td>\n",
       "            </tr>\n",
       "            <tr>\n",
       "                        <th id=\"T_cd275ec2_006b_11ee_8639_3c2c30ee3a5clevel0_row6\" class=\"row_heading level0 row6\" >passenger_count</th>\n",
       "                        <td id=\"T_cd275ec2_006b_11ee_8639_3c2c30ee3a5crow6_col0\" class=\"data row6 col0\" >0.002583</td>\n",
       "                        <td id=\"T_cd275ec2_006b_11ee_8639_3c2c30ee3a5crow6_col1\" class=\"data row6 col1\" >0.014658</td>\n",
       "                        <td id=\"T_cd275ec2_006b_11ee_8639_3c2c30ee3a5crow6_col2\" class=\"data row6 col2\" >0.009756</td>\n",
       "                        <td id=\"T_cd275ec2_006b_11ee_8639_3c2c30ee3a5crow6_col3\" class=\"data row6 col3\" >-0.009814</td>\n",
       "                        <td id=\"T_cd275ec2_006b_11ee_8639_3c2c30ee3a5crow6_col4\" class=\"data row6 col4\" >0.009744</td>\n",
       "                        <td id=\"T_cd275ec2_006b_11ee_8639_3c2c30ee3a5crow6_col5\" class=\"data row6 col5\" >-0.009862</td>\n",
       "                        <td id=\"T_cd275ec2_006b_11ee_8639_3c2c30ee3a5crow6_col6\" class=\"data row6 col6\" >1.000000</td>\n",
       "                        <td id=\"T_cd275ec2_006b_11ee_8639_3c2c30ee3a5crow6_col7\" class=\"data row6 col7\" >0.009432</td>\n",
       "                        <td id=\"T_cd275ec2_006b_11ee_8639_3c2c30ee3a5crow6_col8\" class=\"data row6 col8\" >0.014930</td>\n",
       "                        <td id=\"T_cd275ec2_006b_11ee_8639_3c2c30ee3a5crow6_col9\" class=\"data row6 col9\" >0.002682</td>\n",
       "                        <td id=\"T_cd275ec2_006b_11ee_8639_3c2c30ee3a5crow6_col10\" class=\"data row6 col10\" >0.009230</td>\n",
       "                        <td id=\"T_cd275ec2_006b_11ee_8639_3c2c30ee3a5crow6_col11\" class=\"data row6 col11\" >0.006243</td>\n",
       "                        <td id=\"T_cd275ec2_006b_11ee_8639_3c2c30ee3a5crow6_col12\" class=\"data row6 col12\" >0.036802</td>\n",
       "                        <td id=\"T_cd275ec2_006b_11ee_8639_3c2c30ee3a5crow6_col13\" class=\"data row6 col13\" >nan</td>\n",
       "            </tr>\n",
       "            <tr>\n",
       "                        <th id=\"T_cd275ec2_006b_11ee_8639_3c2c30ee3a5clevel0_row7\" class=\"row_heading level0 row7\" >Distance_km</th>\n",
       "                        <td id=\"T_cd275ec2_006b_11ee_8639_3c2c30ee3a5crow7_col0\" class=\"data row7 col0\" >-0.000701</td>\n",
       "                        <td id=\"T_cd275ec2_006b_11ee_8639_3c2c30ee3a5crow7_col1\" class=\"data row7 col1\" >0.887071</td>\n",
       "                        <td id=\"T_cd275ec2_006b_11ee_8639_3c2c30ee3a5crow7_col2\" class=\"data row7 col2\" >0.005374</td>\n",
       "                        <td id=\"T_cd275ec2_006b_11ee_8639_3c2c30ee3a5crow7_col3\" class=\"data row7 col3\" >0.003213</td>\n",
       "                        <td id=\"T_cd275ec2_006b_11ee_8639_3c2c30ee3a5crow7_col4\" class=\"data row7 col4\" >0.004482</td>\n",
       "                        <td id=\"T_cd275ec2_006b_11ee_8639_3c2c30ee3a5crow7_col5\" class=\"data row7 col5\" >-0.002283</td>\n",
       "                        <td id=\"T_cd275ec2_006b_11ee_8639_3c2c30ee3a5crow7_col6\" class=\"data row7 col6\" >0.009432</td>\n",
       "                        <td id=\"T_cd275ec2_006b_11ee_8639_3c2c30ee3a5crow7_col7\" class=\"data row7 col7\" >1.000000</td>\n",
       "                        <td id=\"T_cd275ec2_006b_11ee_8639_3c2c30ee3a5crow7_col8\" class=\"data row7 col8\" >-0.032523</td>\n",
       "                        <td id=\"T_cd275ec2_006b_11ee_8639_3c2c30ee3a5crow7_col9\" class=\"data row7 col9\" >0.000556</td>\n",
       "                        <td id=\"T_cd275ec2_006b_11ee_8639_3c2c30ee3a5crow7_col10\" class=\"data row7 col10\" >0.012334</td>\n",
       "                        <td id=\"T_cd275ec2_006b_11ee_8639_3c2c30ee3a5crow7_col11\" class=\"data row7 col11\" >0.025868</td>\n",
       "                        <td id=\"T_cd275ec2_006b_11ee_8639_3c2c30ee3a5crow7_col12\" class=\"data row7 col12\" >0.017390</td>\n",
       "                        <td id=\"T_cd275ec2_006b_11ee_8639_3c2c30ee3a5crow7_col13\" class=\"data row7 col13\" >nan</td>\n",
       "            </tr>\n",
       "            <tr>\n",
       "                        <th id=\"T_cd275ec2_006b_11ee_8639_3c2c30ee3a5clevel0_row8\" class=\"row_heading level0 row8\" >Pickup_hr</th>\n",
       "                        <td id=\"T_cd275ec2_006b_11ee_8639_3c2c30ee3a5crow8_col0\" class=\"data row8 col0\" >0.000160</td>\n",
       "                        <td id=\"T_cd275ec2_006b_11ee_8639_3c2c30ee3a5crow8_col1\" class=\"data row8 col1\" >-0.020679</td>\n",
       "                        <td id=\"T_cd275ec2_006b_11ee_8639_3c2c30ee3a5crow8_col2\" class=\"data row8 col2\" >0.001839</td>\n",
       "                        <td id=\"T_cd275ec2_006b_11ee_8639_3c2c30ee3a5crow8_col3\" class=\"data row8 col3\" >-0.001821</td>\n",
       "                        <td id=\"T_cd275ec2_006b_11ee_8639_3c2c30ee3a5crow8_col4\" class=\"data row8 col4\" >0.000942</td>\n",
       "                        <td id=\"T_cd275ec2_006b_11ee_8639_3c2c30ee3a5crow8_col5\" class=\"data row8 col5\" >-0.001018</td>\n",
       "                        <td id=\"T_cd275ec2_006b_11ee_8639_3c2c30ee3a5crow8_col6\" class=\"data row8 col6\" >0.014930</td>\n",
       "                        <td id=\"T_cd275ec2_006b_11ee_8639_3c2c30ee3a5crow8_col7\" class=\"data row8 col7\" >-0.032523</td>\n",
       "                        <td id=\"T_cd275ec2_006b_11ee_8639_3c2c30ee3a5crow8_col8\" class=\"data row8 col8\" >1.000000</td>\n",
       "                        <td id=\"T_cd275ec2_006b_11ee_8639_3c2c30ee3a5crow8_col9\" class=\"data row8 col9\" >0.005305</td>\n",
       "                        <td id=\"T_cd275ec2_006b_11ee_8639_3c2c30ee3a5crow8_col10\" class=\"data row8 col10\" >-0.004157</td>\n",
       "                        <td id=\"T_cd275ec2_006b_11ee_8639_3c2c30ee3a5crow8_col11\" class=\"data row8 col11\" >0.001856</td>\n",
       "                        <td id=\"T_cd275ec2_006b_11ee_8639_3c2c30ee3a5crow8_col12\" class=\"data row8 col12\" >-0.086309</td>\n",
       "                        <td id=\"T_cd275ec2_006b_11ee_8639_3c2c30ee3a5crow8_col13\" class=\"data row8 col13\" >nan</td>\n",
       "            </tr>\n",
       "            <tr>\n",
       "                        <th id=\"T_cd275ec2_006b_11ee_8639_3c2c30ee3a5clevel0_row9\" class=\"row_heading level0 row9\" >Day</th>\n",
       "                        <td id=\"T_cd275ec2_006b_11ee_8639_3c2c30ee3a5crow9_col0\" class=\"data row9 col0\" >0.000480</td>\n",
       "                        <td id=\"T_cd275ec2_006b_11ee_8639_3c2c30ee3a5crow9_col1\" class=\"data row9 col1\" >0.000727</td>\n",
       "                        <td id=\"T_cd275ec2_006b_11ee_8639_3c2c30ee3a5crow9_col2\" class=\"data row9 col2\" >0.019515</td>\n",
       "                        <td id=\"T_cd275ec2_006b_11ee_8639_3c2c30ee3a5crow9_col3\" class=\"data row9 col3\" >-0.019372</td>\n",
       "                        <td id=\"T_cd275ec2_006b_11ee_8639_3c2c30ee3a5crow9_col4\" class=\"data row9 col4\" >0.019539</td>\n",
       "                        <td id=\"T_cd275ec2_006b_11ee_8639_3c2c30ee3a5crow9_col5\" class=\"data row9 col5\" >-0.020097</td>\n",
       "                        <td id=\"T_cd275ec2_006b_11ee_8639_3c2c30ee3a5crow9_col6\" class=\"data row9 col6\" >0.002682</td>\n",
       "                        <td id=\"T_cd275ec2_006b_11ee_8639_3c2c30ee3a5crow9_col7\" class=\"data row9 col7\" >0.000556</td>\n",
       "                        <td id=\"T_cd275ec2_006b_11ee_8639_3c2c30ee3a5crow9_col8\" class=\"data row9 col8\" >0.005305</td>\n",
       "                        <td id=\"T_cd275ec2_006b_11ee_8639_3c2c30ee3a5crow9_col9\" class=\"data row9 col9\" >1.000000</td>\n",
       "                        <td id=\"T_cd275ec2_006b_11ee_8639_3c2c30ee3a5crow9_col10\" class=\"data row9 col10\" >-0.017130</td>\n",
       "                        <td id=\"T_cd275ec2_006b_11ee_8639_3c2c30ee3a5crow9_col11\" class=\"data row9 col11\" >-0.012180</td>\n",
       "                        <td id=\"T_cd275ec2_006b_11ee_8639_3c2c30ee3a5crow9_col12\" class=\"data row9 col12\" >0.005023</td>\n",
       "                        <td id=\"T_cd275ec2_006b_11ee_8639_3c2c30ee3a5crow9_col13\" class=\"data row9 col13\" >nan</td>\n",
       "            </tr>\n",
       "            <tr>\n",
       "                        <th id=\"T_cd275ec2_006b_11ee_8639_3c2c30ee3a5clevel0_row10\" class=\"row_heading level0 row10\" >Month</th>\n",
       "                        <td id=\"T_cd275ec2_006b_11ee_8639_3c2c30ee3a5crow10_col0\" class=\"data row10 col0\" >0.001952</td>\n",
       "                        <td id=\"T_cd275ec2_006b_11ee_8639_3c2c30ee3a5crow10_col1\" class=\"data row10 col1\" >0.024816</td>\n",
       "                        <td id=\"T_cd275ec2_006b_11ee_8639_3c2c30ee3a5crow10_col2\" class=\"data row10 col2\" >-0.007490</td>\n",
       "                        <td id=\"T_cd275ec2_006b_11ee_8639_3c2c30ee3a5crow10_col3\" class=\"data row10 col3\" >0.007595</td>\n",
       "                        <td id=\"T_cd275ec2_006b_11ee_8639_3c2c30ee3a5crow10_col4\" class=\"data row10 col4\" >-0.007445</td>\n",
       "                        <td id=\"T_cd275ec2_006b_11ee_8639_3c2c30ee3a5crow10_col5\" class=\"data row10 col5\" >0.007974</td>\n",
       "                        <td id=\"T_cd275ec2_006b_11ee_8639_3c2c30ee3a5crow10_col6\" class=\"data row10 col6\" >0.009230</td>\n",
       "                        <td id=\"T_cd275ec2_006b_11ee_8639_3c2c30ee3a5crow10_col7\" class=\"data row10 col7\" >0.012334</td>\n",
       "                        <td id=\"T_cd275ec2_006b_11ee_8639_3c2c30ee3a5crow10_col8\" class=\"data row10 col8\" >-0.004157</td>\n",
       "                        <td id=\"T_cd275ec2_006b_11ee_8639_3c2c30ee3a5crow10_col9\" class=\"data row10 col9\" >-0.017130</td>\n",
       "                        <td id=\"T_cd275ec2_006b_11ee_8639_3c2c30ee3a5crow10_col10\" class=\"data row10 col10\" >1.000000</td>\n",
       "                        <td id=\"T_cd275ec2_006b_11ee_8639_3c2c30ee3a5crow10_col11\" class=\"data row10 col11\" >-0.115588</td>\n",
       "                        <td id=\"T_cd275ec2_006b_11ee_8639_3c2c30ee3a5crow10_col12\" class=\"data row10 col12\" >-0.008879</td>\n",
       "                        <td id=\"T_cd275ec2_006b_11ee_8639_3c2c30ee3a5crow10_col13\" class=\"data row10 col13\" >nan</td>\n",
       "            </tr>\n",
       "            <tr>\n",
       "                        <th id=\"T_cd275ec2_006b_11ee_8639_3c2c30ee3a5clevel0_row11\" class=\"row_heading level0 row11\" >Year</th>\n",
       "                        <td id=\"T_cd275ec2_006b_11ee_8639_3c2c30ee3a5crow11_col0\" class=\"data row11 col0\" >-0.001095</td>\n",
       "                        <td id=\"T_cd275ec2_006b_11ee_8639_3c2c30ee3a5crow11_col1\" class=\"data row11 col1\" >0.122906</td>\n",
       "                        <td id=\"T_cd275ec2_006b_11ee_8639_3c2c30ee3a5crow11_col2\" class=\"data row11 col2\" >0.013472</td>\n",
       "                        <td id=\"T_cd275ec2_006b_11ee_8639_3c2c30ee3a5crow11_col3\" class=\"data row11 col3\" >-0.013687</td>\n",
       "                        <td id=\"T_cd275ec2_006b_11ee_8639_3c2c30ee3a5crow11_col4\" class=\"data row11 col4\" >0.013365</td>\n",
       "                        <td id=\"T_cd275ec2_006b_11ee_8639_3c2c30ee3a5crow11_col5\" class=\"data row11 col5\" >-0.014359</td>\n",
       "                        <td id=\"T_cd275ec2_006b_11ee_8639_3c2c30ee3a5crow11_col6\" class=\"data row11 col6\" >0.006243</td>\n",
       "                        <td id=\"T_cd275ec2_006b_11ee_8639_3c2c30ee3a5crow11_col7\" class=\"data row11 col7\" >0.025868</td>\n",
       "                        <td id=\"T_cd275ec2_006b_11ee_8639_3c2c30ee3a5crow11_col8\" class=\"data row11 col8\" >0.001856</td>\n",
       "                        <td id=\"T_cd275ec2_006b_11ee_8639_3c2c30ee3a5crow11_col9\" class=\"data row11 col9\" >-0.012180</td>\n",
       "                        <td id=\"T_cd275ec2_006b_11ee_8639_3c2c30ee3a5crow11_col10\" class=\"data row11 col10\" >-0.115588</td>\n",
       "                        <td id=\"T_cd275ec2_006b_11ee_8639_3c2c30ee3a5crow11_col11\" class=\"data row11 col11\" >1.000000</td>\n",
       "                        <td id=\"T_cd275ec2_006b_11ee_8639_3c2c30ee3a5crow11_col12\" class=\"data row11 col12\" >0.005967</td>\n",
       "                        <td id=\"T_cd275ec2_006b_11ee_8639_3c2c30ee3a5crow11_col13\" class=\"data row11 col13\" >nan</td>\n",
       "            </tr>\n",
       "            <tr>\n",
       "                        <th id=\"T_cd275ec2_006b_11ee_8639_3c2c30ee3a5clevel0_row12\" class=\"row_heading level0 row12\" >Day_of_week</th>\n",
       "                        <td id=\"T_cd275ec2_006b_11ee_8639_3c2c30ee3a5crow12_col0\" class=\"data row12 col0\" >-0.004786</td>\n",
       "                        <td id=\"T_cd275ec2_006b_11ee_8639_3c2c30ee3a5crow12_col1\" class=\"data row12 col1\" >0.005181</td>\n",
       "                        <td id=\"T_cd275ec2_006b_11ee_8639_3c2c30ee3a5crow12_col2\" class=\"data row12 col2\" >0.008235</td>\n",
       "                        <td id=\"T_cd275ec2_006b_11ee_8639_3c2c30ee3a5crow12_col3\" class=\"data row12 col3\" >-0.008918</td>\n",
       "                        <td id=\"T_cd275ec2_006b_11ee_8639_3c2c30ee3a5crow12_col4\" class=\"data row12 col4\" >0.008536</td>\n",
       "                        <td id=\"T_cd275ec2_006b_11ee_8639_3c2c30ee3a5crow12_col5\" class=\"data row12 col5\" >-0.008910</td>\n",
       "                        <td id=\"T_cd275ec2_006b_11ee_8639_3c2c30ee3a5crow12_col6\" class=\"data row12 col6\" >0.036802</td>\n",
       "                        <td id=\"T_cd275ec2_006b_11ee_8639_3c2c30ee3a5crow12_col7\" class=\"data row12 col7\" >0.017390</td>\n",
       "                        <td id=\"T_cd275ec2_006b_11ee_8639_3c2c30ee3a5crow12_col8\" class=\"data row12 col8\" >-0.086309</td>\n",
       "                        <td id=\"T_cd275ec2_006b_11ee_8639_3c2c30ee3a5crow12_col9\" class=\"data row12 col9\" >0.005023</td>\n",
       "                        <td id=\"T_cd275ec2_006b_11ee_8639_3c2c30ee3a5crow12_col10\" class=\"data row12 col10\" >-0.008879</td>\n",
       "                        <td id=\"T_cd275ec2_006b_11ee_8639_3c2c30ee3a5crow12_col11\" class=\"data row12 col11\" >0.005967</td>\n",
       "                        <td id=\"T_cd275ec2_006b_11ee_8639_3c2c30ee3a5crow12_col12\" class=\"data row12 col12\" >1.000000</td>\n",
       "                        <td id=\"T_cd275ec2_006b_11ee_8639_3c2c30ee3a5crow12_col13\" class=\"data row12 col13\" >nan</td>\n",
       "            </tr>\n",
       "            <tr>\n",
       "                        <th id=\"T_cd275ec2_006b_11ee_8639_3c2c30ee3a5clevel0_row13\" class=\"row_heading level0 row13\" >Count</th>\n",
       "                        <td id=\"T_cd275ec2_006b_11ee_8639_3c2c30ee3a5crow13_col0\" class=\"data row13 col0\" >nan</td>\n",
       "                        <td id=\"T_cd275ec2_006b_11ee_8639_3c2c30ee3a5crow13_col1\" class=\"data row13 col1\" >nan</td>\n",
       "                        <td id=\"T_cd275ec2_006b_11ee_8639_3c2c30ee3a5crow13_col2\" class=\"data row13 col2\" >nan</td>\n",
       "                        <td id=\"T_cd275ec2_006b_11ee_8639_3c2c30ee3a5crow13_col3\" class=\"data row13 col3\" >nan</td>\n",
       "                        <td id=\"T_cd275ec2_006b_11ee_8639_3c2c30ee3a5crow13_col4\" class=\"data row13 col4\" >nan</td>\n",
       "                        <td id=\"T_cd275ec2_006b_11ee_8639_3c2c30ee3a5crow13_col5\" class=\"data row13 col5\" >nan</td>\n",
       "                        <td id=\"T_cd275ec2_006b_11ee_8639_3c2c30ee3a5crow13_col6\" class=\"data row13 col6\" >nan</td>\n",
       "                        <td id=\"T_cd275ec2_006b_11ee_8639_3c2c30ee3a5crow13_col7\" class=\"data row13 col7\" >nan</td>\n",
       "                        <td id=\"T_cd275ec2_006b_11ee_8639_3c2c30ee3a5crow13_col8\" class=\"data row13 col8\" >nan</td>\n",
       "                        <td id=\"T_cd275ec2_006b_11ee_8639_3c2c30ee3a5crow13_col9\" class=\"data row13 col9\" >nan</td>\n",
       "                        <td id=\"T_cd275ec2_006b_11ee_8639_3c2c30ee3a5crow13_col10\" class=\"data row13 col10\" >nan</td>\n",
       "                        <td id=\"T_cd275ec2_006b_11ee_8639_3c2c30ee3a5crow13_col11\" class=\"data row13 col11\" >nan</td>\n",
       "                        <td id=\"T_cd275ec2_006b_11ee_8639_3c2c30ee3a5crow13_col12\" class=\"data row13 col12\" >nan</td>\n",
       "                        <td id=\"T_cd275ec2_006b_11ee_8639_3c2c30ee3a5crow13_col13\" class=\"data row13 col13\" >nan</td>\n",
       "            </tr>\n",
       "    </tbody></table>"
      ],
      "text/plain": [
       "<pandas.io.formats.style.Styler at 0x214cc15a790>"
      ]
     },
     "execution_count": 30,
     "metadata": {},
     "output_type": "execute_result"
    }
   ],
   "source": [
    "corr = DF.corr()\n",
    "\n",
    "corr.style.background_gradient(cmap='BuPu')"
   ]
  },
  {
   "cell_type": "markdown",
   "id": "70754a6a",
   "metadata": {},
   "source": [
    "- Strong corr between pick up and dropoff lats and same for longs cause the are close to each other in value and position\n",
    "- Strong inverse corr is also showen between lat and lon this time because lang and lat are bulit on different directions \n",
    "- what's most important here is the high postive corr between fare and distance which will be our measure for our linear regression ML model"
   ]
  },
  {
   "cell_type": "markdown",
   "id": "22bd94d8",
   "metadata": {},
   "source": [
    "# Machine Learning Models\n"
   ]
  },
  {
   "cell_type": "code",
   "execution_count": 32,
   "id": "0db1204e",
   "metadata": {},
   "outputs": [],
   "source": [
    "X = DF['Distance_km'].values.reshape(-1, 1)      \n",
    "y = DF['fare_amount'].values.reshape(-1, 1)    \n",
    "\n",
    "#Assigning our features "
   ]
  },
  {
   "cell_type": "code",
   "execution_count": 33,
   "id": "6203a84a",
   "metadata": {},
   "outputs": [],
   "source": [
    "std = StandardScaler()\n",
    "y_std = std.fit_transform(y)\n",
    "\n",
    "x_std = std.fit_transform(X)\n",
    "\n",
    "#Standardizing our data for better ML performance "
   ]
  },
  {
   "cell_type": "code",
   "execution_count": 34,
   "id": "25edfbba",
   "metadata": {},
   "outputs": [],
   "source": [
    "X_train, X_test, y_train, y_test = train_test_split(x_std, y_std, test_size=0.2, random_state=0)\n",
    "\n",
    "#Splitting out data to train and test using sklearn"
   ]
  },
  {
   "cell_type": "code",
   "execution_count": 35,
   "id": "d5d66d4f",
   "metadata": {},
   "outputs": [
    {
     "name": "stdout",
     "output_type": "stream",
     "text": [
      "Training set score: 0.79\n",
      "Test set score: 0.7866032\n"
     ]
    }
   ],
   "source": [
    "l_reg = LinearRegression()\n",
    "l_reg.fit(X_train, y_train)\n",
    "\n",
    "print(\"Training set score: {:.2f}\".format(l_reg.score(X_train, y_train)))\n",
    "print(\"Test set score: {:.7f}\".format(l_reg.score(X_test, y_test)))\n",
    "\n",
    "#Our simple regression model"
   ]
  },
  {
   "cell_type": "code",
   "execution_count": 36,
   "id": "7405137b",
   "metadata": {},
   "outputs": [],
   "source": [
    "y_pred = l_reg.predict(X_test)\n",
    "df = {'Actual': y_test, 'Predicted': y_pred}\n"
   ]
  },
  {
   "cell_type": "code",
   "execution_count": 38,
   "id": "05b9d519",
   "metadata": {},
   "outputs": [
    {
     "name": "stdout",
     "output_type": "stream",
     "text": [
      "Mean Absolute Error: 0.2465529458176031\n"
     ]
    }
   ],
   "source": [
    "print('Mean Absolute Error:', metrics.mean_absolute_error(y_test, y_pred))\n"
   ]
  },
  {
   "cell_type": "code",
   "execution_count": 38,
   "id": "813c04b3",
   "metadata": {},
   "outputs": [
    {
     "data": {
      "image/png": "[encoded data removed]",
      "text/plain": [
       "<Figure size 640x480 with 2 Axes>"
      ]
     },
     "metadata": {},
     "output_type": "display_data"
    }
   ],
   "source": [
    "plt.subplot(2, 2, 1)\n",
    "plt.scatter(X_train, y_train, color = 'green')\n",
    "plt.plot(X_train, l_reg.predict(X_train), color =\"black\")\n",
    "plt.title(\"Fare vs Distance (Training Set)\")\n",
    "plt.ylabel(\"fare_amount\")\n",
    "plt.xlabel(\"Distance\")\n",
    "\n",
    "plt.subplot(2, 2, 2)\n",
    "plt.scatter(X_test, y_test, color = 'green')\n",
    "plt.plot(X_train, l_reg.predict(X_train), color =\"black\")\n",
    "plt.ylabel(\"fare_amount\")\n",
    "plt.xlabel(\"Distance\")\n",
    "plt.title(\"Fare vs Distance (Test Set)\")\n",
    "\n",
    "\n",
    "plt.tight_layout()\n",
    "plt.rcParams[\"figure.figsize\"] = (32,22)\n",
    "plt.show()\n"
   ]
  },
  {
   "cell_type": "markdown",
   "id": "f3810624",
   "metadata": {},
   "source": [
    "# Conclusion & Recommendations"
   ]
  },
  {
   "cell_type": "markdown",
   "id": "8aed9390",
   "metadata": {},
   "source": [
    "- Main Ascpects to consider to estimate a trip fare are distance travelled and peek hours, so these data must be entered promptly\n",
    "- "
   ]
  }
 ],
 "metadata": {
  "kernelspec": {
   "display_name": "Python 3 (ipykernel)",
   "language": "python",
   "name": "python3"
  },
  "language_info": {
   "codemirror_mode": {
    "name": "ipython",
    "version": 3
   },
   "file_extension": ".py",
   "mimetype": "text/x-python",
   "name": "python",
   "nbconvert_exporter": "python",
   "pygments_lexer": "ipython3",
   "version": "3.8.5"
  }
 },
 "nbformat": 4,
 "nbformat_minor": 5
}
